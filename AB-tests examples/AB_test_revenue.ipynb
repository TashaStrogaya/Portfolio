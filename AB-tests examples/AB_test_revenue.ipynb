{
  "nbformat": 4,
  "nbformat_minor": 0,
  "metadata": {
    "colab": {
      "provenance": [],
      "toc_visible": true
    },
    "kernelspec": {
      "name": "python3",
      "display_name": "Python 3"
    },
    "language_info": {
      "name": "python"
    }
  },
  "cells": [
    {
      "cell_type": "markdown",
      "source": [
        "## AB-тест на revenue \n"
      ],
      "metadata": {
        "id": "8QUExY2qepIU"
      }
    },
    {
      "cell_type": "markdown",
      "source": [
        "### Определение функций"
      ],
      "metadata": {
        "id": "g6LK922nevUQ"
      }
    },
    {
      "cell_type": "code",
      "execution_count": null,
      "metadata": {
        "id": "SW0Q5qlGetZB"
      },
      "outputs": [],
      "source": [
        "#подключаемся к библиотекам\n",
        "import pandas as pd\n",
        "from scipy import stats\n",
        "import seaborn as sns\n",
        "import matplotlib.pyplot as plt\n",
        "import numpy as np\n",
        "from matplotlib.patches import Rectangle\n",
        "from statsmodels.stats.power import TTestIndPower\n",
        "from statsmodels.stats.proportion import proportions_ztest, proportion_confint"
      ]
    },
    {
      "cell_type": "code",
      "source": [
        "# Построение гистограмм\n",
        "def hists (samp1, samp2, txt1='', txt2='', title=''):\n",
        "    sns.set(rc={'figure.figsize':(12,5)})\n",
        "    sns.histplot(samp1, color = '#00140b', alpha = 0.7, label = txt1, edgecolor='#004524')\n",
        "    sns.histplot(samp2, color = '#ff2957', alpha = 0.6, label = txt2, edgecolor='#ff2957')\n",
        "    plt.xlabel('')\n",
        "    plt.legend(fontsize = 13)\n",
        "    plt.title(title, fontsize = 15)\n",
        "    plt.show()"
      ],
      "metadata": {
        "id": "eSsCuytCvmUR"
      },
      "execution_count": null,
      "outputs": []
    },
    {
      "cell_type": "code",
      "source": [
        "# функция расчёта p_value для двух выборок Т-тестом\n",
        "\n",
        "def t_test (samp1, samp2):\n",
        "    p_val = stats.ttest_ind(samp1, samp2,\n",
        "                equal_var=False)[1]\n",
        "    \n",
        "    print(f'Т-тест Стьюдента дал p_value = {p_val}')\n",
        "    print(f'Нулевая гипотеза отвергается, выборки принадлежат разным ГС' if p_val < 0.05 else f'Нулевая гипотеза принимается, выборки принадлежат одной ГС')\n",
        "    \n",
        "    return p_val"
      ],
      "metadata": {
        "id": "3zstLbV_eyi2"
      },
      "execution_count": null,
      "outputs": []
    },
    {
      "cell_type": "code",
      "source": [
        "# функция расчёта p_value двух выборок тестом Манна-Уитни\n",
        "def t_mann (samp1, samp2):\n",
        "    p_val = stats.mannwhitneyu(\n",
        "        samp1, samp2,\n",
        "        alternative = 'two-sided')[1]\n",
        "    \n",
        "    print(f'Тест Манна-Уитни дал p_value = {p_val}')\n",
        "    print(f'Нулевая гипотеза отвергается, выборки принадлежат разным ГС' if p_val < 0.05 else f'Нулевая гипотеза принимается, выборки принадлежат одной ГС')\n",
        "    \n",
        "    return p_val"
      ],
      "metadata": {
        "id": "O5IGicc5e7sl"
      },
      "execution_count": null,
      "outputs": []
    },
    {
      "cell_type": "code",
      "source": [
        "# Пуассновский бутстрап\n",
        "def poisson_bootstrap(metric1, metric2, n_bootstrap=2000):\n",
        "    \n",
        "    poisson_bootstraps1 = stats.poisson(1).rvs(\n",
        "        (n_bootstrap, len(metric1))).astype(np.int64)\n",
        "    poisson_bootstraps2 = stats.poisson(1).rvs(\n",
        "        (n_bootstrap, len(metric2))).astype(np.int64)\n",
        "    \n",
        "    boot_metric1 = (poisson_bootstraps1*metric1).mean(axis=1)\n",
        "    boot_metric2 = (poisson_bootstraps2*metric2).mean(axis=1)\n",
        "    \n",
        "    return boot_metric1, boot_metric2"
      ],
      "metadata": {
        "id": "ZmnIeLLIe9Ub"
      },
      "execution_count": null,
      "outputs": []
    },
    {
      "cell_type": "code",
      "source": [
        "# функция вывода распределения разниц и границами, исполбьзуется после бустрапа\n",
        "\n",
        "def hist_boost (samp, title='', set_bins = 50):\n",
        "    sns.set(rc={'figure.figsize':(12,5)})\n",
        "    samp_mean = samp.mean()\n",
        "    sigma = 1.96 * samp.var() / len(samp)**0.5\n",
        "    \n",
        "    plt.axvline(x = 0, color='#ff033e', linewidth=2) # визуальная проверка на включение в разницу нуля\n",
        "    \n",
        "    plt.gca().add_patch(Rectangle(\n",
        "        (np.quantile(samp, 0.05/2), 0),\n",
        "        np.quantile(samp, 1-0.05/2)-np.quantile(samp, 0.05/2),\n",
        "        len(samp)/10,\n",
        "        edgecolor = 'black',\n",
        "        facecolor = 'pink',\n",
        "        alpha = 0.4,\n",
        "        label='ДИ 95%',\n",
        "        fill=True\n",
        "    ))\n",
        "    \n",
        "    sns.histplot(samp, color = '#013220', alpha=0.6, label='Разница')\n",
        "    plt.title(title, fontsize = 15)\n",
        "    plt.legend()\n",
        "    plt.show()\n",
        "\n",
        "    return f\"CI 95% = [{np.quantile(samp, 0.05/2):.2f}, {np.quantile(samp, 1-0.05/2):.2f}]\""
      ],
      "metadata": {
        "id": "DiRxOSJ0e_U9"
      },
      "execution_count": null,
      "outputs": []
    },
    {
      "cell_type": "markdown",
      "source": [
        "### Предварительный анализ"
      ],
      "metadata": {
        "id": "OjlRQvfRfAsc"
      }
    },
    {
      "cell_type": "markdown",
      "source": [
        "На сайте был проведен А/В тест с целью увеличить доход. Наша цель - провести анализ, полученных в результате данных.\n",
        "\n",
        "Н0 - средний доход от одного пользователя остался неизменным, Н1 - средний доход от одного пользователя изменился."
      ],
      "metadata": {
        "id": "48pU2ZjFnBXc"
      }
    },
    {
      "cell_type": "code",
      "source": [
        "df = pd.read_excel('/content/AB_Test_Results.xlsx')"
      ],
      "metadata": {
        "colab": {
          "base_uri": "https://localhost:8080/"
        },
        "id": "1ioToy4UhKoh",
        "outputId": "357982aa-e26b-4f6d-cf25-a3434206e6b7"
      },
      "execution_count": null,
      "outputs": [
        {
          "output_type": "stream",
          "name": "stderr",
          "text": [
            "/usr/local/lib/python3.8/dist-packages/openpyxl/worksheet/_reader.py:312: UserWarning: Unknown extension is not supported and will be removed\n",
            "  warn(msg)\n"
          ]
        }
      ]
    },
    {
      "cell_type": "code",
      "source": [
        "df.head()"
      ],
      "metadata": {
        "colab": {
          "base_uri": "https://localhost:8080/",
          "height": 206
        },
        "id": "MdbYmUBmhz06",
        "outputId": "66afc654-e772-48dd-d51e-61b2a1b886da"
      },
      "execution_count": null,
      "outputs": [
        {
          "output_type": "execute_result",
          "data": {
            "text/plain": [
              "   USER_ID VARIANT_NAME  REVENUE\n",
              "0      737      variant      0.0\n",
              "1     2423      control      0.0\n",
              "2     9411      control      0.0\n",
              "3     7311      control      0.0\n",
              "4     6174      variant      0.0"
            ],
            "text/html": [
              "\n",
              "  <div id=\"df-6fd2a94e-21ca-43b2-8778-20cac1096a6f\">\n",
              "    <div class=\"colab-df-container\">\n",
              "      <div>\n",
              "<style scoped>\n",
              "    .dataframe tbody tr th:only-of-type {\n",
              "        vertical-align: middle;\n",
              "    }\n",
              "\n",
              "    .dataframe tbody tr th {\n",
              "        vertical-align: top;\n",
              "    }\n",
              "\n",
              "    .dataframe thead th {\n",
              "        text-align: right;\n",
              "    }\n",
              "</style>\n",
              "<table border=\"1\" class=\"dataframe\">\n",
              "  <thead>\n",
              "    <tr style=\"text-align: right;\">\n",
              "      <th></th>\n",
              "      <th>USER_ID</th>\n",
              "      <th>VARIANT_NAME</th>\n",
              "      <th>REVENUE</th>\n",
              "    </tr>\n",
              "  </thead>\n",
              "  <tbody>\n",
              "    <tr>\n",
              "      <th>0</th>\n",
              "      <td>737</td>\n",
              "      <td>variant</td>\n",
              "      <td>0.0</td>\n",
              "    </tr>\n",
              "    <tr>\n",
              "      <th>1</th>\n",
              "      <td>2423</td>\n",
              "      <td>control</td>\n",
              "      <td>0.0</td>\n",
              "    </tr>\n",
              "    <tr>\n",
              "      <th>2</th>\n",
              "      <td>9411</td>\n",
              "      <td>control</td>\n",
              "      <td>0.0</td>\n",
              "    </tr>\n",
              "    <tr>\n",
              "      <th>3</th>\n",
              "      <td>7311</td>\n",
              "      <td>control</td>\n",
              "      <td>0.0</td>\n",
              "    </tr>\n",
              "    <tr>\n",
              "      <th>4</th>\n",
              "      <td>6174</td>\n",
              "      <td>variant</td>\n",
              "      <td>0.0</td>\n",
              "    </tr>\n",
              "  </tbody>\n",
              "</table>\n",
              "</div>\n",
              "      <button class=\"colab-df-convert\" onclick=\"convertToInteractive('df-6fd2a94e-21ca-43b2-8778-20cac1096a6f')\"\n",
              "              title=\"Convert this dataframe to an interactive table.\"\n",
              "              style=\"display:none;\">\n",
              "        \n",
              "  <svg xmlns=\"http://www.w3.org/2000/svg\" height=\"24px\"viewBox=\"0 0 24 24\"\n",
              "       width=\"24px\">\n",
              "    <path d=\"M0 0h24v24H0V0z\" fill=\"none\"/>\n",
              "    <path d=\"M18.56 5.44l.94 2.06.94-2.06 2.06-.94-2.06-.94-.94-2.06-.94 2.06-2.06.94zm-11 1L8.5 8.5l.94-2.06 2.06-.94-2.06-.94L8.5 2.5l-.94 2.06-2.06.94zm10 10l.94 2.06.94-2.06 2.06-.94-2.06-.94-.94-2.06-.94 2.06-2.06.94z\"/><path d=\"M17.41 7.96l-1.37-1.37c-.4-.4-.92-.59-1.43-.59-.52 0-1.04.2-1.43.59L10.3 9.45l-7.72 7.72c-.78.78-.78 2.05 0 2.83L4 21.41c.39.39.9.59 1.41.59.51 0 1.02-.2 1.41-.59l7.78-7.78 2.81-2.81c.8-.78.8-2.07 0-2.86zM5.41 20L4 18.59l7.72-7.72 1.47 1.35L5.41 20z\"/>\n",
              "  </svg>\n",
              "      </button>\n",
              "      \n",
              "  <style>\n",
              "    .colab-df-container {\n",
              "      display:flex;\n",
              "      flex-wrap:wrap;\n",
              "      gap: 12px;\n",
              "    }\n",
              "\n",
              "    .colab-df-convert {\n",
              "      background-color: #E8F0FE;\n",
              "      border: none;\n",
              "      border-radius: 50%;\n",
              "      cursor: pointer;\n",
              "      display: none;\n",
              "      fill: #1967D2;\n",
              "      height: 32px;\n",
              "      padding: 0 0 0 0;\n",
              "      width: 32px;\n",
              "    }\n",
              "\n",
              "    .colab-df-convert:hover {\n",
              "      background-color: #E2EBFA;\n",
              "      box-shadow: 0px 1px 2px rgba(60, 64, 67, 0.3), 0px 1px 3px 1px rgba(60, 64, 67, 0.15);\n",
              "      fill: #174EA6;\n",
              "    }\n",
              "\n",
              "    [theme=dark] .colab-df-convert {\n",
              "      background-color: #3B4455;\n",
              "      fill: #D2E3FC;\n",
              "    }\n",
              "\n",
              "    [theme=dark] .colab-df-convert:hover {\n",
              "      background-color: #434B5C;\n",
              "      box-shadow: 0px 1px 3px 1px rgba(0, 0, 0, 0.15);\n",
              "      filter: drop-shadow(0px 1px 2px rgba(0, 0, 0, 0.3));\n",
              "      fill: #FFFFFF;\n",
              "    }\n",
              "  </style>\n",
              "\n",
              "      <script>\n",
              "        const buttonEl =\n",
              "          document.querySelector('#df-6fd2a94e-21ca-43b2-8778-20cac1096a6f button.colab-df-convert');\n",
              "        buttonEl.style.display =\n",
              "          google.colab.kernel.accessAllowed ? 'block' : 'none';\n",
              "\n",
              "        async function convertToInteractive(key) {\n",
              "          const element = document.querySelector('#df-6fd2a94e-21ca-43b2-8778-20cac1096a6f');\n",
              "          const dataTable =\n",
              "            await google.colab.kernel.invokeFunction('convertToInteractive',\n",
              "                                                     [key], {});\n",
              "          if (!dataTable) return;\n",
              "\n",
              "          const docLinkHtml = 'Like what you see? Visit the ' +\n",
              "            '<a target=\"_blank\" href=https://colab.research.google.com/notebooks/data_table.ipynb>data table notebook</a>'\n",
              "            + ' to learn more about interactive tables.';\n",
              "          element.innerHTML = '';\n",
              "          dataTable['output_type'] = 'display_data';\n",
              "          await google.colab.output.renderOutput(dataTable, element);\n",
              "          const docLink = document.createElement('div');\n",
              "          docLink.innerHTML = docLinkHtml;\n",
              "          element.appendChild(docLink);\n",
              "        }\n",
              "      </script>\n",
              "    </div>\n",
              "  </div>\n",
              "  "
            ]
          },
          "metadata": {},
          "execution_count": 44
        }
      ]
    },
    {
      "cell_type": "code",
      "source": [
        "df_control = df[df.VARIANT_NAME == 'control'].copy()\n",
        "df_target = df[df.VARIANT_NAME == 'variant'].copy()"
      ],
      "metadata": {
        "id": "MKUHEpE8hrLW"
      },
      "execution_count": null,
      "outputs": []
    },
    {
      "cell_type": "code",
      "source": [
        "sns.set(rc={'figure.figsize':(20,6)})\n",
        "fig, axes = plt.subplots(1, 2)\n",
        "sns.histplot(df_control, ax = axes[0], x='REVENUE', kde = True).set_title('Control')\n",
        "sns.histplot(df_target, ax = axes[1], x='REVENUE', kde = True).set_title('Target')\n",
        "fig.show()\n",
        "print(f\"{df_control.USER_ID.count():_} - Объём control группы\\n{df_target.USER_ID.count():_} - Объём target группы\")\n",
        "print(f\"{df_control.REVENUE.mean():.2f} - Среднее control группы\\n{df_target.REVENUE.mean():.2f} - Среднее target группы\")"
      ],
      "metadata": {
        "colab": {
          "base_uri": "https://localhost:8080/",
          "height": 479
        },
        "id": "yMnCfvzyiUV-",
        "outputId": "d5204a65-6a48-4c40-c670-e58131d781e7"
      },
      "execution_count": null,
      "outputs": [
        {
          "output_type": "stream",
          "name": "stdout",
          "text": [
            "4_984 - Объём control группы\n",
            "5_016 - Объём target группы\n",
            "0.13 - Среднее control группы\n",
            "0.07 - Среднее target группы\n"
          ]
        },
        {
          "output_type": "display_data",
          "data": {
            "text/plain": [
              "<Figure size 1440x432 with 2 Axes>"
            ],
            "image/png": "[encoded data removed]"
          },
          "metadata": {}
        }
      ]
    },
    {
      "cell_type": "markdown",
      "source": [
        "В кейсе нам необходимо выяснить произошли ли стат значимые изменения прибыли, и если да, то в каккую сторону.\n",
        "\n",
        "Видим, что распредление прибыли ненормальное, сконцентрировано у нуля и имеет хвост в виде немногочисленных положительных значений. \n",
        "\n",
        "В ходе теста revenue упала, но пока нет оснований утверждать - значимо или нет. \n",
        "\n",
        "Объем выборок одного масштаба, что увеличивает чувствительность тестов."
      ],
      "metadata": {
        "id": "KCPZ9mCufjAZ"
      }
    },
    {
      "cell_type": "code",
      "source": [
        "print(f\"{df_control[df_control.REVENUE != 0].shape[0]} - Ненулевые control группы\\n{df_target[df_target.REVENUE != 0].shape[0]} - Ненулевые target группы\")"
      ],
      "metadata": {
        "colab": {
          "base_uri": "https://localhost:8080/"
        },
        "id": "clykcv-2gh4D",
        "outputId": "9ba058da-6a5b-4bb0-df29-f4d076c8c2d8"
      },
      "execution_count": null,
      "outputs": [
        {
          "output_type": "stream",
          "name": "stdout",
          "text": [
            "80 - Ненулевые control группы\n",
            "72 - Ненулевые target группы\n"
          ]
        }
      ]
    },
    {
      "cell_type": "markdown",
      "source": [
        "Практически все значения - нулевые, и из-за многочисленно повторящихся значений мы не можем использовать U-критерий для проверки - поменялось ли распределение прибыли после теста.\n",
        "\n",
        "И из-за сильной скошенности мы не можем использовать Т-критерий, т.к. среднее выборок не будет распредлеено нормально.\n",
        "\n",
        "Поэтому для проверки гипотезы об изменение средней прибыли среди всех пользователей мы будем использовать бутстрап."
      ],
      "metadata": {
        "id": "I31dtqtBgFH7"
      }
    },
    {
      "cell_type": "markdown",
      "source": [
        "Посмотрим как справочные метрики, которые как правило сонаправлены с основной, также Конверсию пользователя в покупателя и распредление прибыли среди только платящих пользователей."
      ],
      "metadata": {
        "id": "EZ1ppo88nZph"
      }
    },
    {
      "cell_type": "code",
      "source": [
        "print(f\"{(df_control.REVENUE != 0).mean()*100:.2f}% - CR в покупку control\\n{(df_target.REVENUE != 0).mean()*100:.2f}% - CR в покупку target\")"
      ],
      "metadata": {
        "colab": {
          "base_uri": "https://localhost:8080/"
        },
        "id": "NqyvWAhNuRZJ",
        "outputId": "e63729d0-2de3-49ed-d20b-5364f891ce45"
      },
      "execution_count": null,
      "outputs": [
        {
          "output_type": "stream",
          "name": "stdout",
          "text": [
            "1.61% - CR в покупку control\n",
            "1.44% - CR в покупку target\n"
          ]
        }
      ]
    },
    {
      "cell_type": "markdown",
      "source": [
        "Наблюдаем падение метрики. С помощью z-теста пропорций проверим является ли оно значимым или случайным."
      ],
      "metadata": {
        "id": "vqc_EadYoDCc"
      }
    },
    {
      "cell_type": "code",
      "source": [
        "sns.set(rc={'figure.figsize':(20,6)})\n",
        "fig, axes = plt.subplots(1, 2)\n",
        "sns.histplot(df_control[df_control.REVENUE != 0], ax = axes[0], x='REVENUE', kde = True).set_title('Control')\n",
        "sns.histplot(df_target[df_target.REVENUE != 0], ax = axes[1], x='REVENUE', kde = True).set_title('Target')\n",
        "fig.suptitle('Только среди платящих')\n",
        "fig.show()\n",
        "print(f\"{df_control[df_control.REVENUE != 0].USER_ID.count():_} - Объём control группы\\n{df_target[df_target.REVENUE != 0].USER_ID.count():_} - Объём target группы\")\n",
        "print(f\"{df_control[df_control.REVENUE != 0].REVENUE.mean():.2f} - Среднее control группы\\n{df_target[df_target.REVENUE != 0].REVENUE.mean():.2f} - Среднее target группы\")"
      ],
      "metadata": {
        "colab": {
          "base_uri": "https://localhost:8080/",
          "height": 506
        },
        "id": "IiyL7slFysPm",
        "outputId": "b3b86c21-369e-4e05-e3f3-bab98f706aaa"
      },
      "execution_count": null,
      "outputs": [
        {
          "output_type": "stream",
          "name": "stdout",
          "text": [
            "80 - Объём control группы\n",
            "72 - Объём target группы\n",
            "8.04 - Среднее control группы\n",
            "4.88 - Среднее target группы\n"
          ]
        },
        {
          "output_type": "display_data",
          "data": {
            "text/plain": [
              "<Figure size 1440x432 with 2 Axes>"
            ],
            "image/png": "[encoded data removed]"
          },
          "metadata": {}
        }
      ]
    },
    {
      "cell_type": "markdown",
      "source": [
        "Тут более заметна разница между группами в средних, но она обусловлена наличием выброса + небольшими размерами групп."
      ],
      "metadata": {
        "id": "0aGe4W2Y6Nd_"
      }
    },
    {
      "cell_type": "code",
      "source": [
        "df_control.groupby(by='REVENUE', as_index=False).agg(cnt = ('REVENUE','count')).sort_values('cnt', ascending=False).head()"
      ],
      "metadata": {
        "colab": {
          "base_uri": "https://localhost:8080/",
          "height": 206
        },
        "id": "x11tQe0L2OxQ",
        "outputId": "69224d78-6333-4ef8-c90e-8699cbaae757"
      },
      "execution_count": null,
      "outputs": [
        {
          "output_type": "execute_result",
          "data": {
            "text/plain": [
              "    REVENUE   cnt\n",
              "0      0.00  4904\n",
              "9      1.25     5\n",
              "33     3.25     4\n",
              "38     4.33     3\n",
              "23     2.17     3"
            ],
            "text/html": [
              "\n",
              "  <div id=\"df-ad84cea1-ad43-4a50-9f6f-f06073738d45\">\n",
              "    <div class=\"colab-df-container\">\n",
              "      <div>\n",
              "<style scoped>\n",
              "    .dataframe tbody tr th:only-of-type {\n",
              "        vertical-align: middle;\n",
              "    }\n",
              "\n",
              "    .dataframe tbody tr th {\n",
              "        vertical-align: top;\n",
              "    }\n",
              "\n",
              "    .dataframe thead th {\n",
              "        text-align: right;\n",
              "    }\n",
              "</style>\n",
              "<table border=\"1\" class=\"dataframe\">\n",
              "  <thead>\n",
              "    <tr style=\"text-align: right;\">\n",
              "      <th></th>\n",
              "      <th>REVENUE</th>\n",
              "      <th>cnt</th>\n",
              "    </tr>\n",
              "  </thead>\n",
              "  <tbody>\n",
              "    <tr>\n",
              "      <th>0</th>\n",
              "      <td>0.00</td>\n",
              "      <td>4904</td>\n",
              "    </tr>\n",
              "    <tr>\n",
              "      <th>9</th>\n",
              "      <td>1.25</td>\n",
              "      <td>5</td>\n",
              "    </tr>\n",
              "    <tr>\n",
              "      <th>33</th>\n",
              "      <td>3.25</td>\n",
              "      <td>4</td>\n",
              "    </tr>\n",
              "    <tr>\n",
              "      <th>38</th>\n",
              "      <td>4.33</td>\n",
              "      <td>3</td>\n",
              "    </tr>\n",
              "    <tr>\n",
              "      <th>23</th>\n",
              "      <td>2.17</td>\n",
              "      <td>3</td>\n",
              "    </tr>\n",
              "  </tbody>\n",
              "</table>\n",
              "</div>\n",
              "      <button class=\"colab-df-convert\" onclick=\"convertToInteractive('df-ad84cea1-ad43-4a50-9f6f-f06073738d45')\"\n",
              "              title=\"Convert this dataframe to an interactive table.\"\n",
              "              style=\"display:none;\">\n",
              "        \n",
              "  <svg xmlns=\"http://www.w3.org/2000/svg\" height=\"24px\"viewBox=\"0 0 24 24\"\n",
              "       width=\"24px\">\n",
              "    <path d=\"M0 0h24v24H0V0z\" fill=\"none\"/>\n",
              "    <path d=\"M18.56 5.44l.94 2.06.94-2.06 2.06-.94-2.06-.94-.94-2.06-.94 2.06-2.06.94zm-11 1L8.5 8.5l.94-2.06 2.06-.94-2.06-.94L8.5 2.5l-.94 2.06-2.06.94zm10 10l.94 2.06.94-2.06 2.06-.94-2.06-.94-.94-2.06-.94 2.06-2.06.94z\"/><path d=\"M17.41 7.96l-1.37-1.37c-.4-.4-.92-.59-1.43-.59-.52 0-1.04.2-1.43.59L10.3 9.45l-7.72 7.72c-.78.78-.78 2.05 0 2.83L4 21.41c.39.39.9.59 1.41.59.51 0 1.02-.2 1.41-.59l7.78-7.78 2.81-2.81c.8-.78.8-2.07 0-2.86zM5.41 20L4 18.59l7.72-7.72 1.47 1.35L5.41 20z\"/>\n",
              "  </svg>\n",
              "      </button>\n",
              "      \n",
              "  <style>\n",
              "    .colab-df-container {\n",
              "      display:flex;\n",
              "      flex-wrap:wrap;\n",
              "      gap: 12px;\n",
              "    }\n",
              "\n",
              "    .colab-df-convert {\n",
              "      background-color: #E8F0FE;\n",
              "      border: none;\n",
              "      border-radius: 50%;\n",
              "      cursor: pointer;\n",
              "      display: none;\n",
              "      fill: #1967D2;\n",
              "      height: 32px;\n",
              "      padding: 0 0 0 0;\n",
              "      width: 32px;\n",
              "    }\n",
              "\n",
              "    .colab-df-convert:hover {\n",
              "      background-color: #E2EBFA;\n",
              "      box-shadow: 0px 1px 2px rgba(60, 64, 67, 0.3), 0px 1px 3px 1px rgba(60, 64, 67, 0.15);\n",
              "      fill: #174EA6;\n",
              "    }\n",
              "\n",
              "    [theme=dark] .colab-df-convert {\n",
              "      background-color: #3B4455;\n",
              "      fill: #D2E3FC;\n",
              "    }\n",
              "\n",
              "    [theme=dark] .colab-df-convert:hover {\n",
              "      background-color: #434B5C;\n",
              "      box-shadow: 0px 1px 3px 1px rgba(0, 0, 0, 0.15);\n",
              "      filter: drop-shadow(0px 1px 2px rgba(0, 0, 0, 0.3));\n",
              "      fill: #FFFFFF;\n",
              "    }\n",
              "  </style>\n",
              "\n",
              "      <script>\n",
              "        const buttonEl =\n",
              "          document.querySelector('#df-ad84cea1-ad43-4a50-9f6f-f06073738d45 button.colab-df-convert');\n",
              "        buttonEl.style.display =\n",
              "          google.colab.kernel.accessAllowed ? 'block' : 'none';\n",
              "\n",
              "        async function convertToInteractive(key) {\n",
              "          const element = document.querySelector('#df-ad84cea1-ad43-4a50-9f6f-f06073738d45');\n",
              "          const dataTable =\n",
              "            await google.colab.kernel.invokeFunction('convertToInteractive',\n",
              "                                                     [key], {});\n",
              "          if (!dataTable) return;\n",
              "\n",
              "          const docLinkHtml = 'Like what you see? Visit the ' +\n",
              "            '<a target=\"_blank\" href=https://colab.research.google.com/notebooks/data_table.ipynb>data table notebook</a>'\n",
              "            + ' to learn more about interactive tables.';\n",
              "          element.innerHTML = '';\n",
              "          dataTable['output_type'] = 'display_data';\n",
              "          await google.colab.output.renderOutput(dataTable, element);\n",
              "          const docLink = document.createElement('div');\n",
              "          docLink.innerHTML = docLinkHtml;\n",
              "          element.appendChild(docLink);\n",
              "        }\n",
              "      </script>\n",
              "    </div>\n",
              "  </div>\n",
              "  "
            ]
          },
          "metadata": {},
          "execution_count": 50
        }
      ]
    },
    {
      "cell_type": "code",
      "source": [
        "df_target.groupby('REVENUE', as_index=False).agg(cnt = ('REVENUE','count')).sort_values('cnt', ascending=False).head()"
      ],
      "metadata": {
        "colab": {
          "base_uri": "https://localhost:8080/",
          "height": 206
        },
        "id": "aziZs6tl2RRS",
        "outputId": "86003593-5bdb-4e44-ae2c-728b2200e339"
      },
      "execution_count": null,
      "outputs": [
        {
          "output_type": "execute_result",
          "data": {
            "text/plain": [
              "    REVENUE   cnt\n",
              "0      0.00  4944\n",
              "12     1.25     5\n",
              "10     1.01     4\n",
              "2      0.04     3\n",
              "35     3.75     2"
            ],
            "text/html": [
              "\n",
              "  <div id=\"df-3192d71c-62f4-405d-92e8-492563f730dd\">\n",
              "    <div class=\"colab-df-container\">\n",
              "      <div>\n",
              "<style scoped>\n",
              "    .dataframe tbody tr th:only-of-type {\n",
              "        vertical-align: middle;\n",
              "    }\n",
              "\n",
              "    .dataframe tbody tr th {\n",
              "        vertical-align: top;\n",
              "    }\n",
              "\n",
              "    .dataframe thead th {\n",
              "        text-align: right;\n",
              "    }\n",
              "</style>\n",
              "<table border=\"1\" class=\"dataframe\">\n",
              "  <thead>\n",
              "    <tr style=\"text-align: right;\">\n",
              "      <th></th>\n",
              "      <th>REVENUE</th>\n",
              "      <th>cnt</th>\n",
              "    </tr>\n",
              "  </thead>\n",
              "  <tbody>\n",
              "    <tr>\n",
              "      <th>0</th>\n",
              "      <td>0.00</td>\n",
              "      <td>4944</td>\n",
              "    </tr>\n",
              "    <tr>\n",
              "      <th>12</th>\n",
              "      <td>1.25</td>\n",
              "      <td>5</td>\n",
              "    </tr>\n",
              "    <tr>\n",
              "      <th>10</th>\n",
              "      <td>1.01</td>\n",
              "      <td>4</td>\n",
              "    </tr>\n",
              "    <tr>\n",
              "      <th>2</th>\n",
              "      <td>0.04</td>\n",
              "      <td>3</td>\n",
              "    </tr>\n",
              "    <tr>\n",
              "      <th>35</th>\n",
              "      <td>3.75</td>\n",
              "      <td>2</td>\n",
              "    </tr>\n",
              "  </tbody>\n",
              "</table>\n",
              "</div>\n",
              "      <button class=\"colab-df-convert\" onclick=\"convertToInteractive('df-3192d71c-62f4-405d-92e8-492563f730dd')\"\n",
              "              title=\"Convert this dataframe to an interactive table.\"\n",
              "              style=\"display:none;\">\n",
              "        \n",
              "  <svg xmlns=\"http://www.w3.org/2000/svg\" height=\"24px\"viewBox=\"0 0 24 24\"\n",
              "       width=\"24px\">\n",
              "    <path d=\"M0 0h24v24H0V0z\" fill=\"none\"/>\n",
              "    <path d=\"M18.56 5.44l.94 2.06.94-2.06 2.06-.94-2.06-.94-.94-2.06-.94 2.06-2.06.94zm-11 1L8.5 8.5l.94-2.06 2.06-.94-2.06-.94L8.5 2.5l-.94 2.06-2.06.94zm10 10l.94 2.06.94-2.06 2.06-.94-2.06-.94-.94-2.06-.94 2.06-2.06.94z\"/><path d=\"M17.41 7.96l-1.37-1.37c-.4-.4-.92-.59-1.43-.59-.52 0-1.04.2-1.43.59L10.3 9.45l-7.72 7.72c-.78.78-.78 2.05 0 2.83L4 21.41c.39.39.9.59 1.41.59.51 0 1.02-.2 1.41-.59l7.78-7.78 2.81-2.81c.8-.78.8-2.07 0-2.86zM5.41 20L4 18.59l7.72-7.72 1.47 1.35L5.41 20z\"/>\n",
              "  </svg>\n",
              "      </button>\n",
              "      \n",
              "  <style>\n",
              "    .colab-df-container {\n",
              "      display:flex;\n",
              "      flex-wrap:wrap;\n",
              "      gap: 12px;\n",
              "    }\n",
              "\n",
              "    .colab-df-convert {\n",
              "      background-color: #E8F0FE;\n",
              "      border: none;\n",
              "      border-radius: 50%;\n",
              "      cursor: pointer;\n",
              "      display: none;\n",
              "      fill: #1967D2;\n",
              "      height: 32px;\n",
              "      padding: 0 0 0 0;\n",
              "      width: 32px;\n",
              "    }\n",
              "\n",
              "    .colab-df-convert:hover {\n",
              "      background-color: #E2EBFA;\n",
              "      box-shadow: 0px 1px 2px rgba(60, 64, 67, 0.3), 0px 1px 3px 1px rgba(60, 64, 67, 0.15);\n",
              "      fill: #174EA6;\n",
              "    }\n",
              "\n",
              "    [theme=dark] .colab-df-convert {\n",
              "      background-color: #3B4455;\n",
              "      fill: #D2E3FC;\n",
              "    }\n",
              "\n",
              "    [theme=dark] .colab-df-convert:hover {\n",
              "      background-color: #434B5C;\n",
              "      box-shadow: 0px 1px 3px 1px rgba(0, 0, 0, 0.15);\n",
              "      filter: drop-shadow(0px 1px 2px rgba(0, 0, 0, 0.3));\n",
              "      fill: #FFFFFF;\n",
              "    }\n",
              "  </style>\n",
              "\n",
              "      <script>\n",
              "        const buttonEl =\n",
              "          document.querySelector('#df-3192d71c-62f4-405d-92e8-492563f730dd button.colab-df-convert');\n",
              "        buttonEl.style.display =\n",
              "          google.colab.kernel.accessAllowed ? 'block' : 'none';\n",
              "\n",
              "        async function convertToInteractive(key) {\n",
              "          const element = document.querySelector('#df-3192d71c-62f4-405d-92e8-492563f730dd');\n",
              "          const dataTable =\n",
              "            await google.colab.kernel.invokeFunction('convertToInteractive',\n",
              "                                                     [key], {});\n",
              "          if (!dataTable) return;\n",
              "\n",
              "          const docLinkHtml = 'Like what you see? Visit the ' +\n",
              "            '<a target=\"_blank\" href=https://colab.research.google.com/notebooks/data_table.ipynb>data table notebook</a>'\n",
              "            + ' to learn more about interactive tables.';\n",
              "          element.innerHTML = '';\n",
              "          dataTable['output_type'] = 'display_data';\n",
              "          await google.colab.output.renderOutput(dataTable, element);\n",
              "          const docLink = document.createElement('div');\n",
              "          docLink.innerHTML = docLinkHtml;\n",
              "          element.appendChild(docLink);\n",
              "        }\n",
              "      </script>\n",
              "    </div>\n",
              "  </div>\n",
              "  "
            ]
          },
          "metadata": {},
          "execution_count": 51
        }
      ]
    },
    {
      "cell_type": "markdown",
      "source": [
        "В этой метрике нет большого кол-ва повторяющихся значений, поэтому мы можем использовать U-критерий для проверки - поменялось ли распределение прибыли среди приносящих доход.\n",
        "\n",
        "Распредление тем неменее остается сильно скошенным - поэтому Т-тест использовать не вариант."
      ],
      "metadata": {
        "id": "_bS-hUqFp_Zx"
      }
    },
    {
      "cell_type": "markdown",
      "source": [
        "### Анализ"
      ],
      "metadata": {
        "id": "ZVi-BTywu1Cb"
      }
    },
    {
      "cell_type": "markdown",
      "source": [
        "Для анализа метрики дохода от пользователей используем бустрап."
      ],
      "metadata": {
        "id": "d1jSuH8A4Cp1"
      }
    },
    {
      "cell_type": "code",
      "source": [
        "boot_control, boot_target = poisson_bootstrap(df_control.REVENUE.to_numpy(), df_target.REVENUE.to_numpy())\n",
        "hists(boot_control, boot_target, 'control', 'target', 'Выборочные средние revenue')\n",
        "print(f\"p_value = {np.mean(boot_target > np.quantile(boot_control, 0.05)):.2f}\")"
      ],
      "metadata": {
        "colab": {
          "base_uri": "https://localhost:8080/",
          "height": 358
        },
        "id": "lN4PgGNcakB3",
        "outputId": "1a558a17-6356-4b7c-9867-63c4e9c2a8f0"
      },
      "execution_count": null,
      "outputs": [
        {
          "output_type": "display_data",
          "data": {
            "text/plain": [
              "<Figure size 864x360 with 1 Axes>"
            ],
            "image/png": "[encoded data removed]"
          },
          "metadata": {}
        },
        {
          "output_type": "stream",
          "name": "stdout",
          "text": [
            "p_value = 0.43\n"
          ]
        }
      ]
    },
    {
      "cell_type": "markdown",
      "source": [
        "В результате мы получили распредления средних обеих групп. Сравнив их, мы рассчитали p_value = 0.41 > alpha = 0.05. Поэтому у нас нет оснований отвергнуть Н0 и принять Н1. Будем считать, что разница средних в эксперименте - случайна."
      ],
      "metadata": {
        "id": "6KqqqN0k4KIt"
      }
    },
    {
      "cell_type": "code",
      "source": [
        "stats.normaltest(boot_control)[1], stats.normaltest(boot_target)[1], stats.normaltest(boot_target - boot_control)[1]"
      ],
      "metadata": {
        "colab": {
          "base_uri": "https://localhost:8080/"
        },
        "id": "XKn0sBpKl0xG",
        "outputId": "2f3fb1ab-c77a-461d-9a0a-f27c6a1cb496"
      },
      "execution_count": null,
      "outputs": [
        {
          "output_type": "execute_result",
          "data": {
            "text/plain": [
              "(2.823060301657305e-47, 4.8290612083471525e-17, 1.167765643130144e-27)"
            ]
          },
          "metadata": {},
          "execution_count": 53
        }
      ]
    },
    {
      "cell_type": "markdown",
      "source": [
        "Как и говорилось ранее - распределения средних обеих выборок и их разницы - ненормально, поэтому у нас не было оснований использовать Т-тест."
      ],
      "metadata": {
        "id": "kn2jfedt4onp"
      }
    },
    {
      "cell_type": "code",
      "source": [
        "ci = hist_boost(boot_target - boot_control, 'Разница выборочных средних')\n",
        "print(f'{ci}')"
      ],
      "metadata": {
        "colab": {
          "base_uri": "https://localhost:8080/",
          "height": 358
        },
        "id": "zejHfakncCTP",
        "outputId": "cda88a83-e79b-4f97-b0ec-98f758f411df"
      },
      "execution_count": null,
      "outputs": [
        {
          "output_type": "display_data",
          "data": {
            "text/plain": [
              "<Figure size 864x360 with 1 Axes>"
            ],
            "image/png": "[encoded data removed]"
          },
          "metadata": {}
        },
        {
          "output_type": "stream",
          "name": "stdout",
          "text": [
            "CI 95% = [-0.17, 0.02]\n"
          ]
        }
      ]
    },
    {
      "cell_type": "markdown",
      "source": [
        "Доверительный интервал разницы включает ноль, что также говорит о том, что у нас нет оснований называть считать наблюдаемую разницу между группами неслучайной."
      ],
      "metadata": {
        "id": "ZFnIDVs842Ff"
      }
    },
    {
      "cell_type": "code",
      "source": [
        "p_val_prop = proportions_ztest([df_control[df_control.REVENUE != 0].shape[0], df_target[df_target.REVENUE != 0].shape[0]],[df_control.shape[0], df_target.shape[0]],  \\\n",
        "                                alternative = 'two-sided')[1]\n",
        "print(f\"p_value CR = {p_val_prop:.2f}\")\n",
        "print(f\"CI разницы {100*(proportion_confint(df_target[df_target.REVENUE != 0].shape[0], df_target.shape[0]) - (df_control.REVENUE != 0).mean())}, в %\")"
      ],
      "metadata": {
        "colab": {
          "base_uri": "https://localhost:8080/"
        },
        "id": "ndwXEgVds4UF",
        "outputId": "611b5aaf-b902-48bf-a719-e7e92480812c"
      },
      "execution_count": null,
      "outputs": [
        {
          "output_type": "stream",
          "name": "stdout",
          "text": [
            "p_value CR = 0.49\n",
            "CI разницы [-0.49889749  0.15943801], в %\n"
          ]
        }
      ]
    },
    {
      "cell_type": "markdown",
      "source": [
        "Z-тест пропорций по Конверсии в покупателя также не дал оснований отвергнуть Н0, поэтому мы ее принимаем и считаем результаты случайными."
      ],
      "metadata": {
        "id": "KGdKt1X_5Csb"
      }
    },
    {
      "cell_type": "code",
      "source": [
        "t_mann(df_control[df_control.REVENUE != 0].REVENUE, df_target[df_target.REVENUE != 0].REVENUE)"
      ],
      "metadata": {
        "colab": {
          "base_uri": "https://localhost:8080/"
        },
        "id": "yaLWCr1EzOMd",
        "outputId": "df2e78a2-cd97-4521-d0ba-a64be216edd0"
      },
      "execution_count": null,
      "outputs": [
        {
          "output_type": "stream",
          "name": "stdout",
          "text": [
            "Тест Манна-Уитни дал p_value = 0.07924299810603061\n",
            "Нулевая гипотеза принимается, выборки принадлежат одной ГС\n"
          ]
        },
        {
          "output_type": "execute_result",
          "data": {
            "text/plain": [
              "0.07924299810603061"
            ]
          },
          "metadata": {},
          "execution_count": 56
        }
      ]
    },
    {
      "cell_type": "markdown",
      "source": [
        "Критерий Манна-Уитни не дал нам оснований считать, что распределение прибыли среди покупателей изменилось. Что также можно увидеть сравнивая случайные числа из обеих выборок. (Значение около 0,5 - т.е. характер распредления значимо не поменялся.)"
      ],
      "metadata": {
        "id": "mZLloxMb5ne9"
      }
    },
    {
      "cell_type": "code",
      "source": [
        "A_gt_B = 0\n",
        "for _ in range(10000):\n",
        "    A_gt_B+=df_control[df_control.REVENUE != 0].REVENUE.sample().values[0] > df_target[df_target.REVENUE != 0].REVENUE.sample().values[0]\n",
        "print('В', A_gt_B/100, '% случаев control > target')"
      ],
      "metadata": {
        "colab": {
          "base_uri": "https://localhost:8080/"
        },
        "id": "So8fub991sAN",
        "outputId": "8b7ef90e-2e3d-4a7f-e713-bc24ccaed937"
      },
      "execution_count": null,
      "outputs": [
        {
          "output_type": "stream",
          "name": "stdout",
          "text": [
            "В 58.46 % случаев control > target\n"
          ]
        }
      ]
    },
    {
      "cell_type": "markdown",
      "source": [
        "### Выводы\n",
        "\n",
        "В результате A/B теста не было замечено значимого роста или падения прибыли. Наблюдаемые изменения случайны, поэтому выкатывать на всех нововвдеения не стоит."
      ],
      "metadata": {
        "id": "Bi_w9rlLu6Y-"
      }
    }
  ]
}