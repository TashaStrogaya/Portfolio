{
 "cells": [
  {
   "cell_type": "markdown",
   "id": "6b46325d-6995-47a7-80bf-09f79c8013b9",
   "metadata": {
    "tags": []
   },
   "source": [
    "# Описание задачи"
   ]
  },
  {
   "cell_type": "markdown",
   "id": "f9b72bf0-d5de-45b3-b7a7-4bb126847e9f",
   "metadata": {},
   "source": [
    "Команда дата-сайнтистов разработала новый алгоритм рекомендаций. Совместно с ними мы провели эксперимент о влиянии нового алгоритма на поведение пользователей. Для эксперимента были задействованы 2 и 1 группы. В группе 2 был использован новый алгоритмов рекомендации постов, группа 1 использовалась в качестве контроля.\n",
    "\n",
    "Основная гипотеза заключается в том, что новый алгоритм во 2-й группе приведет к увеличению CTR.\n",
    "\n",
    "Прежде чем перейти к AB-тесту, проверим систему сплитирования."
   ]
  },
  {
   "cell_type": "markdown",
   "id": "f73f45e2-2d19-40e0-bea6-59e89d6589b8",
   "metadata": {},
   "source": [
    "## Подключение библиотек"
   ]
  },
  {
   "cell_type": "code",
   "execution_count": 1,
   "id": "6db3e322-fbf9-4d00-8ad6-2507c6dbafcd",
   "metadata": {},
   "outputs": [],
   "source": [
    "#подключаемся к библиотекам\n",
    "import pandas as pd\n",
    "import pandahouse as ph\n",
    "from scipy import stats\n",
    "import seaborn as sns\n",
    "import matplotlib.pyplot as plt\n",
    "import numpy as np\n",
    "from matplotlib.patches import Rectangle\n",
    "from statsmodels.stats.power import TTestIndPower"
   ]
  },
  {
   "cell_type": "markdown",
   "id": "b65d54f2-befa-4869-a03d-362dabf657e8",
   "metadata": {},
   "source": [
    "# Проведение AA-теста"
   ]
  },
  {
   "cell_type": "markdown",
   "id": "8e2cbe21-734c-4273-8b83-1c90b41ff6d2",
   "metadata": {},
   "source": [
    "До проведения АВ-теста нам стоит убедиться в том, что наша система сплитования работает корректно, и ключевая метрика не отличается между группами не только в конкретно нашем АА-тесте, но и в целом.\n",
    "\n",
    "В идеале бы было провести бесконечное количество АА-тестов с извлечением кадый раз новой выборки из ГС, но на практике это практически невозможно, поэтому используем небольшой трюк.\n",
    "\n",
    "Из имеющеся выборки мы будем многократно извлекать подвыборки без повторений из наших данных, проводить t-тест и в итоге посмотрим в скольких процентах случаях мы оклонили нулевую гипотезу и распределение p_value всех симуляций. При уровне значимости в 0,05 в 5% случаев мы получим стат значимые результаты - при условии уорректности системы сплитирования. \n",
    "\n",
    "Система сплитирования работала вхолостую неделю до проведения АВ-теста, с '2022-07-06' по '2022-07-12'. Номера групп 2 и 3 (exp_group)."
   ]
  },
  {
   "cell_type": "markdown",
   "id": "e4e330af-3d26-455e-819f-f1075c189db7",
   "metadata": {},
   "source": [
    "## Функции для проведения теста"
   ]
  },
  {
   "cell_type": "code",
   "execution_count": 2,
   "id": "50404b58-1b9c-4cc2-8be9-98531980637a",
   "metadata": {},
   "outputs": [],
   "source": [
    "# функция расчёта p_value для двух выборок Т-тестом\n",
    "\n",
    "def p_test (samp1, samp2):\n",
    "    p_val = stats.ttest_ind(samp1, samp2,\n",
    "                equal_var=False)[1]\n",
    "    return p_val"
   ]
  },
  {
   "cell_type": "code",
   "execution_count": 3,
   "id": "e8989ed2-b767-4088-b7f9-930481e58661",
   "metadata": {},
   "outputs": [],
   "source": [
    "# функция имитации множественного повтора АА-теста, \n",
    "    # передает лист p_value для каждого из них на проверку, \n",
    "    # показывает результат проверки, возвращает лист p_value\n",
    "    # cnt - количество проведений\n",
    "    \n",
    "def aa_test(samp1, samp2, cnt = 10000):\n",
    "    p_val_list = []\n",
    "    \n",
    "    for i in range(cnt):\n",
    "        sub_samp1 = samp1.sample(500, replace=False).tolist()\n",
    "        sub_samp2 = samp2.sample(500, replace=False).tolist()\n",
    "        \n",
    "        p_val_list.append(p_test(sub_samp1, sub_samp2))\n",
    "    \n",
    "    res = check_aa(p_val_list, cnt)\n",
    "        \n",
    "    return p_val_list, res"
   ]
  },
  {
   "cell_type": "code",
   "execution_count": 4,
   "id": "26a05ba2-6828-43b8-bb0b-9d557ed61f0f",
   "metadata": {},
   "outputs": [],
   "source": [
    "# функция проверки количества стат значимых результатов из общего числа\n",
    "\n",
    "def check_aa(p_lst, number_of_repeat = 10000):\n",
    "    \n",
    "    cnt_p = [x for x in p_lst if x < 0.05]\n",
    "    cnt_test_true = round(len(cnt_p) / number_of_repeat * 100, 4)\n",
    "    \n",
    "    return f'Количество стат значимых результатов из {number_of_repeat}: {cnt_test_true}% или {cnt_test_true/100 * number_of_repeat:.0f}'"
   ]
  },
  {
   "cell_type": "code",
   "execution_count": 5,
   "id": "32eeee67-ebf2-4839-ae73-4d793fc03aac",
   "metadata": {},
   "outputs": [],
   "source": [
    "# построение графика на два распределения\n",
    "\n",
    "sns.set(rc={'figure.figsize':(14,8)})\n",
    "\n",
    "def hists (samp1, samp2, txt1='', txt2='', title='', set_bins = 50):\n",
    "    \n",
    "    sns.histplot(samp1, color = 'green', alpha = 0.8, bins = set_bins, label = txt1)\n",
    "    sns.histplot(samp2, color = 'orange', alpha = 0.6, bins = set_bins, label = txt2)\n",
    "    plt.xlabel('')\n",
    "    plt.legend(fontsize = 13)\n",
    "    plt.title(title, fontsize = 15)\n",
    "    plt.show()"
   ]
  },
  {
   "cell_type": "markdown",
   "id": "8a6ad3da-a7e6-4012-80f1-759553ea16fd",
   "metadata": {},
   "source": [
    "## Предварительный анализ"
   ]
  },
  {
   "cell_type": "markdown",
   "id": "d1ff2aeb-25d8-4b44-a6a9-55fac56d4d0c",
   "metadata": {},
   "source": [
    "Создадим датафрейм на основе предосталвенного csv."
   ]
  },
  {
   "cell_type": "code",
   "execution_count": 6,
   "id": "cfd91aaf-9c1c-419c-a991-850275f43ef6",
   "metadata": {},
   "outputs": [
    {
     "data": {
      "text/html": [
       "<div>\n",
       "<style scoped>\n",
       "    .dataframe tbody tr th:only-of-type {\n",
       "        vertical-align: middle;\n",
       "    }\n",
       "\n",
       "    .dataframe tbody tr th {\n",
       "        vertical-align: top;\n",
       "    }\n",
       "\n",
       "    .dataframe thead th {\n",
       "        text-align: right;\n",
       "    }\n",
       "</style>\n",
       "<table border=\"1\" class=\"dataframe\">\n",
       "  <thead>\n",
       "    <tr style=\"text-align: right;\">\n",
       "      <th></th>\n",
       "      <th>exp_group</th>\n",
       "      <th>user_id</th>\n",
       "      <th>likes</th>\n",
       "      <th>views</th>\n",
       "      <th>ctr</th>\n",
       "    </tr>\n",
       "  </thead>\n",
       "  <tbody>\n",
       "    <tr>\n",
       "      <th>0</th>\n",
       "      <td>3</td>\n",
       "      <td>115383</td>\n",
       "      <td>11</td>\n",
       "      <td>36</td>\n",
       "      <td>0.305556</td>\n",
       "    </tr>\n",
       "    <tr>\n",
       "      <th>1</th>\n",
       "      <td>3</td>\n",
       "      <td>123580</td>\n",
       "      <td>15</td>\n",
       "      <td>92</td>\n",
       "      <td>0.163043</td>\n",
       "    </tr>\n",
       "    <tr>\n",
       "      <th>2</th>\n",
       "      <td>2</td>\n",
       "      <td>131473</td>\n",
       "      <td>26</td>\n",
       "      <td>148</td>\n",
       "      <td>0.175676</td>\n",
       "    </tr>\n",
       "    <tr>\n",
       "      <th>3</th>\n",
       "      <td>2</td>\n",
       "      <td>23985</td>\n",
       "      <td>12</td>\n",
       "      <td>66</td>\n",
       "      <td>0.181818</td>\n",
       "    </tr>\n",
       "    <tr>\n",
       "      <th>4</th>\n",
       "      <td>2</td>\n",
       "      <td>24523</td>\n",
       "      <td>17</td>\n",
       "      <td>120</td>\n",
       "      <td>0.141667</td>\n",
       "    </tr>\n",
       "  </tbody>\n",
       "</table>\n",
       "</div>"
      ],
      "text/plain": [
       "   exp_group  user_id  likes  views       ctr\n",
       "0          3   115383     11     36  0.305556\n",
       "1          3   123580     15     92  0.163043\n",
       "2          2   131473     26    148  0.175676\n",
       "3          2    23985     12     66  0.181818\n",
       "4          2    24523     17    120  0.141667"
      ]
     },
     "execution_count": 6,
     "metadata": {},
     "output_type": "execute_result"
    }
   ],
   "source": [
    "df_aa = pd.read_csv('aa_test_sample.csv')\n",
    "\n",
    "# Код извлечения данных из ClickHouse бд, в результате которого и был получен csv\n",
    "# SELECT exp_group, \n",
    "#     user_id,\n",
    "#     sum(action = 'like') as likes,\n",
    "#     sum(action = 'view') as views,\n",
    "#     likes/views as ctr\n",
    "# FROM {db}.feed_actions \n",
    "# WHERE toDate(time) between '2022-07-06' and '2022-07-12'\n",
    "#     and exp_group in (2,3)\n",
    "# GROUP BY exp_group, user_id\n",
    "\n",
    "df_aa.head()"
   ]
  },
  {
   "cell_type": "markdown",
   "id": "18c6d504-536a-413c-ab79-ece171da0403",
   "metadata": {},
   "source": [
    "Сейчас датафрейм представлен в виде совокупной информации по обеим группам, поэтому мы разбиваем его на два относительно группы эксперимента."
   ]
  },
  {
   "cell_type": "code",
   "execution_count": 7,
   "id": "6c5b03ef-8767-4ecd-9aa0-f65ac3110476",
   "metadata": {},
   "outputs": [],
   "source": [
    "df_aa_2, df_aa_3 = df_aa[df_aa.exp_group == 2], df_aa[df_aa.exp_group == 3]"
   ]
  },
  {
   "cell_type": "code",
   "execution_count": 8,
   "id": "b1b40614-4d45-4b18-b952-a01234fa9043",
   "metadata": {},
   "outputs": [
    {
     "data": {
      "image/png": "[encoded data removed]",
      "text/plain": [
       "<Figure size 1008x576 with 1 Axes>"
      ]
     },
     "metadata": {},
     "output_type": "display_data"
    },
    {
     "name": "stdout",
     "output_type": "stream",
     "text": [
      "8_480 - Объём второй группы\n",
      "8_569 - Объём третьей группы\n"
     ]
    }
   ],
   "source": [
    "hists(df_aa_2.ctr, df_aa_3.ctr, '2 группа', '3 группа', 'Распределение CTR по группам', 80)\n",
    "print(f\"{df_aa_2.ctr.count():_} - Объём второй группы\\n{df_aa_3.ctr.count():_} - Объём третьей группы\")"
   ]
  },
  {
   "cell_type": "markdown",
   "id": "de0d7775-28a0-4208-893a-60f38d294333",
   "metadata": {},
   "source": [
    "Визуально распределния не отличаются, проверим это симуляцией множественного проведения АА-теста.\n",
    "\n",
    "Тк распределения имеют околонормальный вид (визуально) и объём обеих групп достаточно велик, то для проверки гипотезы подойдёт тест Стьюдента."
   ]
  },
  {
   "cell_type": "markdown",
   "id": "e7cdf012-70aa-461d-9c46-a74bfc28f3e4",
   "metadata": {},
   "source": [
    "## AA-test"
   ]
  },
  {
   "cell_type": "markdown",
   "id": "3838bfef-9062-4dda-8dfe-1bcf7b270358",
   "metadata": {},
   "source": [
    "Сделаем симуляцию, как будто мы провели 10000 АА-тестов. На каждой итерации нам нужно сформировать подвыборки без повторения в 500 юзеров из 2 и 3 экспериментальной группы и провести сравнение этих подвыборок t-testом.\n",
    "\n",
    "Функция принимает на вход метрики двух сравниваемых групп и на выходе даёт список p_value каждой симуляции и текст вывода на его основе. Тело функции представлено во вкладке \"Функции для проведения теста\"."
   ]
  },
  {
   "cell_type": "code",
   "execution_count": 9,
   "id": "904115c9-6be2-490a-941c-47d8b1c883c1",
   "metadata": {},
   "outputs": [],
   "source": [
    "#считаем и собираем результаты АА-тестов\n",
    "p_val_list, res = aa_test(df_aa_2.ctr, df_aa_3.ctr)"
   ]
  },
  {
   "cell_type": "code",
   "execution_count": 10,
   "id": "cec6d8ad-abc1-4e5e-a408-b37c88f5935d",
   "metadata": {},
   "outputs": [
    {
     "data": {
      "image/png": "[encoded data removed]",
      "text/plain": [
       "<Figure size 1008x576 with 1 Axes>"
      ]
     },
     "metadata": {},
     "output_type": "display_data"
    },
    {
     "name": "stdout",
     "output_type": "stream",
     "text": [
      "Количество стат значимых результатов из 10000: 5.05% или 505\n"
     ]
    }
   ],
   "source": [
    "sns.histplot(p_val_list)\n",
    "plt.title('Распределение p_value 10 тыс. экспериментов', size = 15)\n",
    "\n",
    "plt.show()\n",
    "print(res)"
   ]
  },
  {
   "cell_type": "markdown",
   "id": "e5371322-fd6d-4931-bf56-ca4c0d90efa2",
   "metadata": {},
   "source": [
    "## Вывод"
   ]
  },
  {
   "cell_type": "markdown",
   "id": "e5025067-8371-4c2d-b822-d4e055a6b06e",
   "metadata": {},
   "source": [
    "P_value распределено равномерно, что соответствует ситуации истинности нулевой гипотезы - обе выборки принадлежат одному ГС. Это подтвержается и тем, что прокрас мы наблюдаем меньше, чем в 5% слуачев, такой уровень соотвествует уровню значимости альфа 0,05.\n",
    "\n",
    "Вывод - **система сплитирования работает.**"
   ]
  },
  {
   "cell_type": "markdown",
   "id": "1387ea06-8e07-4016-96d6-265499fca029",
   "metadata": {},
   "source": [
    "# AB-тесты"
   ]
  },
  {
   "cell_type": "markdown",
   "id": "96478bcd-609e-414a-a23c-5895c733840e",
   "metadata": {},
   "source": [
    "Этим шагом мы проанализируем результаты эксперимента, который мы провели вместе с командой дата сайентистов. Эксперимент проходил с 2022-07-13 по 2022-07-19 включительно. Для эксперимента были задействованы 2 и 1 группы. \n",
    "\n",
    "В группе 2 был использован один из новых алгоритмов рекомендации постов, группа 1 использовалась в качестве контроля. \n",
    "\n",
    "Основная гипотеза заключается в том, что новый алгоритм во 2-й группе приведет к увеличению CTR. "
   ]
  },
  {
   "cell_type": "markdown",
   "id": "a6b17f1c-9994-4ad1-a868-e6aebd4d6544",
   "metadata": {},
   "source": [
    "Проведем несколько типов АВ-теста и сравним полученные результаты. На этом примере мы руками пощупаем каждый тест и оценим границы их проведения. \n",
    "\n",
    "В исследовании будем использовать t-тест, Пуассоновский бутстреп, тест Манна-Уитни, t-тест на сглаженном ctr (α=5) а также t-тест и тест Манна-Уитни поверх бакетного преобразования. Дополнительно посмотрим метод линеаризации ratio-метрик, разработанный командой Яндекса.\n",
    "\n",
    "**Нулевая гипотеза** - выборки равны между собой, т.е. принадлежат одной генеральной совокупности ГС. **Альтернативная** - выборки отличаются, имеют стат значимые изменения и принадлежат разным ГС.\n",
    "\n",
    "И начнём с того, что создадим датафрейм."
   ]
  },
  {
   "cell_type": "code",
   "execution_count": 11,
   "id": "945b91ad-2ab8-4ad2-8dc0-dd7681931683",
   "metadata": {},
   "outputs": [
    {
     "data": {
      "text/html": [
       "<div>\n",
       "<style scoped>\n",
       "    .dataframe tbody tr th:only-of-type {\n",
       "        vertical-align: middle;\n",
       "    }\n",
       "\n",
       "    .dataframe tbody tr th {\n",
       "        vertical-align: top;\n",
       "    }\n",
       "\n",
       "    .dataframe thead th {\n",
       "        text-align: right;\n",
       "    }\n",
       "</style>\n",
       "<table border=\"1\" class=\"dataframe\">\n",
       "  <thead>\n",
       "    <tr style=\"text-align: right;\">\n",
       "      <th></th>\n",
       "      <th>exp_group</th>\n",
       "      <th>user_id</th>\n",
       "      <th>likes</th>\n",
       "      <th>views</th>\n",
       "      <th>ctr</th>\n",
       "    </tr>\n",
       "  </thead>\n",
       "  <tbody>\n",
       "    <tr>\n",
       "      <th>0</th>\n",
       "      <td>1</td>\n",
       "      <td>109963</td>\n",
       "      <td>3</td>\n",
       "      <td>15</td>\n",
       "      <td>0.200000</td>\n",
       "    </tr>\n",
       "    <tr>\n",
       "      <th>1</th>\n",
       "      <td>1</td>\n",
       "      <td>26117</td>\n",
       "      <td>32</td>\n",
       "      <td>141</td>\n",
       "      <td>0.226950</td>\n",
       "    </tr>\n",
       "    <tr>\n",
       "      <th>2</th>\n",
       "      <td>1</td>\n",
       "      <td>138232</td>\n",
       "      <td>18</td>\n",
       "      <td>73</td>\n",
       "      <td>0.246575</td>\n",
       "    </tr>\n",
       "    <tr>\n",
       "      <th>3</th>\n",
       "      <td>1</td>\n",
       "      <td>26295</td>\n",
       "      <td>33</td>\n",
       "      <td>122</td>\n",
       "      <td>0.270492</td>\n",
       "    </tr>\n",
       "    <tr>\n",
       "      <th>4</th>\n",
       "      <td>1</td>\n",
       "      <td>18392</td>\n",
       "      <td>7</td>\n",
       "      <td>32</td>\n",
       "      <td>0.218750</td>\n",
       "    </tr>\n",
       "  </tbody>\n",
       "</table>\n",
       "</div>"
      ],
      "text/plain": [
       "   exp_group  user_id  likes  views       ctr\n",
       "0          1   109963      3     15  0.200000\n",
       "1          1    26117     32    141  0.226950\n",
       "2          1   138232     18     73  0.246575\n",
       "3          1    26295     33    122  0.270492\n",
       "4          1    18392      7     32  0.218750"
      ]
     },
     "execution_count": 11,
     "metadata": {},
     "output_type": "execute_result"
    }
   ],
   "source": [
    "df_ab = pd.read_csv('ab_test_sample.csv')\n",
    "\n",
    "# Код извлечения данных из ClickHouse бд, в результате которого и был получен csv\n",
    "# SELECT exp_group, \n",
    "#     user_id,\n",
    "#     sum(action = 'like') as likes,\n",
    "#     sum(action = 'view') as views,\n",
    "#     likes/views as ctr\n",
    "# FROM {db}.feed_actions \n",
    "# WHERE toDate(time) between '2022-07-06' and '2022-07-12'\n",
    "#     and exp_group in (2,3)\n",
    "# GROUP BY exp_group, user_id\n",
    "\n",
    "df_ab.head()"
   ]
  },
  {
   "cell_type": "markdown",
   "id": "d299e06f-ccdb-4db4-b162-e41a58d8e48d",
   "metadata": {},
   "source": [
    "И разобъем его на датафреймы эксперемнтальная группа и контрольная."
   ]
  },
  {
   "cell_type": "code",
   "execution_count": 12,
   "id": "3487dc6c-8f01-4c5f-ad53-0bb8643eec8a",
   "metadata": {},
   "outputs": [],
   "source": [
    "df_target, df_control = df_ab[df_ab.exp_group == 2], df_ab[df_ab.exp_group == 1]"
   ]
  },
  {
   "cell_type": "markdown",
   "id": "894c9fff-90cc-44e1-b778-7db6a982e2ca",
   "metadata": {
    "tags": []
   },
   "source": [
    "## Функции для проведения тестов"
   ]
  },
  {
   "cell_type": "code",
   "execution_count": 13,
   "id": "fcd67e4b-4e56-4f37-9575-13caa894dfd3",
   "metadata": {},
   "outputs": [],
   "source": [
    "# функция расчёта p_value для двух выборок Т-тестом\n",
    "\n",
    "def t_test (samp1, samp2):\n",
    "    p_val = stats.ttest_ind(samp1, samp2,\n",
    "                equal_var=False)[1]\n",
    "    \n",
    "    print(f'Т-тест Стьюдента дал p_value = {p_val}')\n",
    "    print(f'Нулевая гипотеза отвергается, выборки принадлежат разным ГС' if p_val < 0.05 else f'Нулевая гипотеза принимается, выборки принадлежат одной ГС')\n",
    "    \n",
    "    return p_val"
   ]
  },
  {
   "cell_type": "code",
   "execution_count": 14,
   "id": "8df7225a-ce53-4128-9e8d-dad071bb7b58",
   "metadata": {},
   "outputs": [],
   "source": [
    "# функция расчёта p_value для двух выборок Т-тестом\n",
    "\n",
    "def t_test (samp1, samp2):\n",
    "    p_val = stats.ttest_ind(samp1, samp2,\n",
    "                equal_var=False)[1]\n",
    "    \n",
    "    print(f'Т-тест Стьюдента дал p_value = {p_val}')\n",
    "    print(f'Нулевая гипотеза отвергается, выборки принадлежат разным ГС' if p_val < 0.05 else f'Нулевая гипотеза принимается, выборки принадлежат одной ГС')\n",
    "    \n",
    "    return p_val"
   ]
  },
  {
   "cell_type": "code",
   "execution_count": 15,
   "id": "9823f13c-7cfb-4044-a004-5be0e46fbe9a",
   "metadata": {},
   "outputs": [],
   "source": [
    "# функция расчёта p_value двух выборок тестом Манна-Уитни\n",
    "def t_mann (samp1, samp2):\n",
    "    p_val = stats.mannwhitneyu(\n",
    "        samp1, samp2,\n",
    "        alternative = 'two-sided')[1]\n",
    "    \n",
    "    print(f'Тест Манна-Уитни дал p_value = {p_val}')\n",
    "    print(f'Нулевая гипотеза отвергается, выборки принадлежат разным ГС' if p_val < 0.05 else f'Нулевая гипотеза принимается, выборки принадлежат одной ГС')\n",
    "    \n",
    "    return p_val"
   ]
  },
  {
   "cell_type": "code",
   "execution_count": 16,
   "id": "1a3bc00a-df06-4b79-bbde-791c8a639edc",
   "metadata": {},
   "outputs": [],
   "source": [
    "# функция сглаживания CTR\n",
    "def get_smothed_ctr(user_likes, user_views, global_ctr, alpha=5):\n",
    "    smothed_ctr = (user_likes + alpha * global_ctr) / (user_views + alpha)\n",
    "    return smothed_ctr"
   ]
  },
  {
   "cell_type": "code",
   "execution_count": 17,
   "id": "2470023e-a88a-493b-9b1d-1e2cea3e9e94",
   "metadata": {},
   "outputs": [],
   "source": [
    "# одно распределение\n",
    "\n",
    "def hist_boost (samp, title='', set_bins = 50):\n",
    "    \n",
    "    samp_mean = samp.mean()\n",
    "    sigma = 1.96 * samp.var() / len(samp)**0.5\n",
    "    \n",
    "    plt.axvline(x = 0) # визуальная проверка на включение в разницу нуля\n",
    "    \n",
    "    sns.histplot(samp, color = 'blue', alpha = 0.5, bins = set_bins)\n",
    "    plt.title(title, fontsize = 15)\n",
    "    plt.show()\n",
    "    \n",
    "    print(f'Дисперсия = {samp.var():.5f}, Среднее = {samp.mean():.5f}, sigma = {sigma:.5f}')\n",
    "    \n",
    "# функция для графика двух распределений hists() определена в части AA-теста\n",
    "# hists (samp1, samp2, txt1='', txt2='', title='', set_bins = 50)"
   ]
  },
  {
   "cell_type": "code",
   "execution_count": 18,
   "id": "1c9612dc-81b8-47ad-856b-78711bd2a00a",
   "metadata": {},
   "outputs": [],
   "source": [
    "# функция Пуассоновского бутстрапа\n",
    "\n",
    "def poisson_bootstrap(likes1, views1, likes2, views2, n_bootstrap=2000):\n",
    "    \n",
    "    poisson_bootstraps1 = stats.poisson(1).rvs(\n",
    "        (n_bootstrap, len(likes1))).astype(np.int64)\n",
    "    poisson_bootstraps2 = stats.poisson(1).rvs(\n",
    "        (n_bootstrap, len(likes2))).astype(np.int64)\n",
    "    \n",
    "    globalCTR1 = (poisson_bootstraps1*likes1).sum(axis=1)/(poisson_bootstraps1*views1).sum(axis=1)\n",
    "    globalCTR2 = (poisson_bootstraps2*likes2).sum(axis=1)/(poisson_bootstraps2*views2).sum(axis=1)\n",
    "    \n",
    "    return globalCTR1, globalCTR2"
   ]
  },
  {
   "cell_type": "markdown",
   "id": "e70c6380-f043-4661-a733-131b910b9328",
   "metadata": {},
   "source": [
    "## Предварительный анализ и классический АВ-тест"
   ]
  },
  {
   "cell_type": "markdown",
   "id": "ff04d03d-01e1-400d-82ac-370b384087ef",
   "metadata": {},
   "source": [
    "Нулевая гипотеза - выборки равны между собой, т.е. принадлежат одной генеральной совокупности ГС. Альтернативная - выборки отличаются, имеют стат значимые изменения и принадлежат разным ГС."
   ]
  },
  {
   "cell_type": "code",
   "execution_count": 19,
   "id": "f851ae15-b63b-4918-95c5-a8c2f5a61aef",
   "metadata": {},
   "outputs": [
    {
     "data": {
      "image/png": "[encoded data removed]",
      "text/plain": [
       "<Figure size 1008x576 with 1 Axes>"
      ]
     },
     "metadata": {},
     "output_type": "display_data"
    },
    {
     "name": "stdout",
     "output_type": "stream",
     "text": [
      "50_395 - Объём control группы\n",
      "49_760 - Объём target группы\n",
      "0.007 - Дисперсия control группы\n",
      "0.021 - Дисперсия target группы\n",
      "\n",
      "1.77% - минимально обнаруживаемый эффект с мощностью 1-b = 0.8 и уровнем значимости a=0.05 на заданных размерах выборок.\n"
     ]
    }
   ],
   "source": [
    "hists(df_control.ctr, df_target.ctr, 'control', 'target', 'Распределения CTR в группах')\n",
    "print(f\"{df_control.size:_} - Объём control группы\\n{df_target.size:_} - Объём target группы\")\n",
    "print(f\"{df_control.ctr.var():.3f} - Дисперсия control группы\\n{df_target.ctr.var():.3f} - Дисперсия target группы\")\n",
    "\n",
    "# рассчитаем MDE\n",
    "analysis = TTestIndPower()\n",
    "print(f\"\\n{analysis.solve_power(power = 0.8, nobs1=df_control.size, ratio=df_target.size / df_control.size, alpha=0.05) * 100:.2f}% - минимально обнаруживаемый эффект\" + \\\n",
    "        \" с мощностью 1-b = 0.8 и уровнем значимости a=0.05 на заданных размерах выборок.\")"
   ]
  },
  {
   "cell_type": "markdown",
   "id": "7463235f-b074-4715-8989-ed21207146f5",
   "metadata": {},
   "source": [
    "Распределения одного размаха, но визуально очевидно расходятся. Контрольное распределние визуально похожее на нормальное, эксперементальное неоднородно и имеет бимодальный вид, и его дисперсия в 3 раза выше. Чтобы определить качество таких изменений необходимо провести тестирование.\n",
    "\n",
    "Распределение целевой группы двухгорбое, т.е. не нормального вида, поэтому Т-тест не даст точные результаты. Подтвердим это."
   ]
  },
  {
   "cell_type": "code",
   "execution_count": 20,
   "id": "24a72e9a-e21e-469b-9d1a-00182f1d6aa5",
   "metadata": {},
   "outputs": [
    {
     "name": "stdout",
     "output_type": "stream",
     "text": [
      "Т-тест Стьюдента дал p_value = 0.4780623130874935\n",
      "Нулевая гипотеза принимается, выборки принадлежат одной ГС\n"
     ]
    }
   ],
   "source": [
    "p_val_tt = t_test(df_control.ctr, df_target.ctr)"
   ]
  },
  {
   "cell_type": "code",
   "execution_count": 21,
   "id": "aac8f723-767e-40f1-8b2a-4f3d0a8b8c56",
   "metadata": {},
   "outputs": [
    {
     "name": "stdout",
     "output_type": "stream",
     "text": [
      "Тест Манна-Уитни дал p_value = 6.0376484617779035e-56\n",
      "Нулевая гипотеза отвергается, выборки принадлежат разным ГС\n"
     ]
    }
   ],
   "source": [
    "p_val_mann = t_mann(df_control.ctr, df_target.ctr)"
   ]
  },
  {
   "cell_type": "markdown",
   "id": "a72ef45d-b525-4b51-899d-56de9984775b",
   "metadata": {},
   "source": [
    "Тесты дали взаимоисключающие результаты, но как говорилось выше, t_тесту в данном случае мы верить не будем, тк он имеет явное ограничение на нормальность (в некоторых случаях околонормальность) исследуемых метрик.\n",
    "\n",
    "Тест Манна Уитни использует ранжирование для поиска расхождений, поэтому он сохраняет чувствительность для разнотипных распределений. Его результаты в нашем случае надежны, и по ним принимается вывод об отвержении нулевой гипотезы. \n",
    "\n",
    "Но тест Манна-Уитни показывает только разницу в функциях распределения, поэтому может быть практически неинтерпретируем продуктово. Для этого отдельно рассмотрим изменения в разрезе среднего наших метрик."
   ]
  },
  {
   "cell_type": "code",
   "execution_count": 22,
   "id": "d358c3c3-fdd0-4929-855d-f3fd85a5dc47",
   "metadata": {},
   "outputs": [
    {
     "name": "stdout",
     "output_type": "stream",
     "text": [
      "Среднее контрольной группы: 0.216\n",
      "Среднее экспериментальной группы: 0.214\n"
     ]
    }
   ],
   "source": [
    "print(f'Среднее контрольной группы: {df_control.ctr.mean():.3f}\\nСреднее экспериментальной группы: {df_target.ctr.mean():.3f}')"
   ]
  },
  {
   "cell_type": "markdown",
   "id": "0ffcdd2a-59d4-4bc9-8b30-8f081eae835e",
   "metadata": {},
   "source": [
    "\n",
    "CTR в результате эксперимента упал, т.к. среднее контрольной группы выше. Т.е. в целом изменения сказалаись негативно на продукте.\n",
    "\n",
    "Закрепим наше исследование использованием других подходов к анализу эксепримента."
   ]
  },
  {
   "cell_type": "markdown",
   "id": "273530ba-62bd-48a6-af33-5b48fcc95b4e",
   "metadata": {},
   "source": [
    "## Сглаженный CTR"
   ]
  },
  {
   "cell_type": "markdown",
   "id": "51dbc67d-97d4-46c9-b867-a10ec271f80a",
   "metadata": {},
   "source": [
    "Для повышения чувсвительности Т-теста метрику можно складить, приводя её вид ближе к академическому нормальному. Но в нашем случае разнотипные распределения, поэтому сглаженность CTR не принесет улучшений для т-теста. Проверим это."
   ]
  },
  {
   "cell_type": "code",
   "execution_count": 23,
   "id": "eed73990-4697-4fe4-901c-30c50faa47d2",
   "metadata": {},
   "outputs": [],
   "source": [
    "global_ctr_control = df_control.likes.sum()/df_control.views.sum()\n",
    "global_ctr_target = df_target.likes.sum()/df_target.views.sum()"
   ]
  },
  {
   "cell_type": "code",
   "execution_count": 24,
   "id": "0ca3b42e-b6e8-43e3-ba34-6c5822838aef",
   "metadata": {},
   "outputs": [],
   "source": [
    "df_control_ctr = df_control.copy()\n",
    "df_control_ctr['smothed_ctr'] = df_control.apply(lambda x: get_smothed_ctr(x['likes'], x['views'], global_ctr_control), axis=1)"
   ]
  },
  {
   "cell_type": "code",
   "execution_count": 25,
   "id": "bc74d913-bc95-4b7c-a4f6-d993cf14de85",
   "metadata": {},
   "outputs": [],
   "source": [
    "df_target_ctr = df_target.copy()\n",
    "df_target_ctr['smothed_ctr'] = df_target.apply(lambda x: get_smothed_ctr(x['likes'], x['views'], global_ctr_target), axis=1)"
   ]
  },
  {
   "cell_type": "code",
   "execution_count": 26,
   "id": "d7563156-bb71-43b7-9815-c32ce5cbd36f",
   "metadata": {},
   "outputs": [
    {
     "data": {
      "image/png": "[encoded data removed]",
      "text/plain": [
       "<Figure size 1008x576 with 1 Axes>"
      ]
     },
     "metadata": {},
     "output_type": "display_data"
    },
    {
     "name": "stdout",
     "output_type": "stream",
     "text": [
      "0.216 - Среднее ctr\n",
      "0.214 - Среднее smothed_ctr\n"
     ]
    }
   ],
   "source": [
    "hists(df_control_ctr.ctr, df_control_ctr.smothed_ctr, 'ctr', 'smothed_ctr', 'Результат сглаживания, control')\n",
    "print(f\"{df_control_ctr.ctr.mean():.3f} - Среднее ctr\\n{df_control_ctr.smothed_ctr.mean():.3f} - Среднее smothed_ctr\")"
   ]
  },
  {
   "cell_type": "code",
   "execution_count": 27,
   "id": "001b13d4-c17d-4f45-8fef-c28ba72f48fb",
   "metadata": {},
   "outputs": [
    {
     "data": {
      "image/png": "[encoded data removed]",
      "text/plain": [
       "<Figure size 1008x576 with 1 Axes>"
      ]
     },
     "metadata": {},
     "output_type": "display_data"
    },
    {
     "name": "stdout",
     "output_type": "stream",
     "text": [
      "0.214 - Среднее ctr\n",
      "0.211 - Среднее smothed_ctr\n"
     ]
    }
   ],
   "source": [
    "hists(df_target_ctr.ctr, df_target_ctr.smothed_ctr, 'ctr', 'smothed_ctr', 'Результат сглаживания, target')\n",
    "print(f\"{df_target_ctr.ctr.mean():.3f} - Среднее ctr\\n{df_target_ctr.smothed_ctr.mean():.3f} - Среднее smothed_ctr\")"
   ]
  },
  {
   "cell_type": "markdown",
   "id": "d4c80bb8-d411-482d-a321-d165521a2d10",
   "metadata": {},
   "source": [
    "Сглаживание замтно повлияло на контрольную группу, причесав его от выбросов и облегчив хвосты. На экспериментольной группы изменения не столь примечательны, тк сглаживание не может поменять тип распределния, т.е. мы все еще не моем использовать успешно t-тест."
   ]
  },
  {
   "cell_type": "code",
   "execution_count": 28,
   "id": "91fe09be-5bae-4271-9bcc-6355d1ef1f97",
   "metadata": {},
   "outputs": [
    {
     "name": "stdout",
     "output_type": "stream",
     "text": [
      "Т-тест Стьюдента дал p_value = 0.4780623130874935\n",
      "Нулевая гипотеза принимается, выборки принадлежат одной ГС\n"
     ]
    }
   ],
   "source": [
    "p_val_tt_ctr = t_test(df_control_ctr.ctr, df_target_ctr.ctr)"
   ]
  },
  {
   "cell_type": "markdown",
   "id": "ed09ea41-1fbf-4e9f-adf6-52c00788dffa",
   "metadata": {},
   "source": [
    "Расчёт вывел точно такое же значение p_value, как и до сглаживания. Сглаженное CTR ожидаемо не повлияло на тестирование.\n",
    "\n",
    "Стоит также отметить, что сглаживание не 100% будет отражать реальную картину, поэтому использовать его следует с осторожностью."
   ]
  },
  {
   "cell_type": "markdown",
   "id": "9e2b53e7-f4a4-4a2c-901b-fc8fc5d65039",
   "metadata": {},
   "source": [
    "## Пуассоновский бутстрап"
   ]
  },
  {
   "cell_type": "markdown",
   "id": "5120b99d-4be3-4eef-9a09-afb933d2a55a",
   "metadata": {},
   "source": [
    "Бутстрап не чувствителен к виду распределения и позволяет считать глобальные метрики. Благодаря этому мы можем провести расчёты не только поюзерного CTR, но и глобального CTR. К тому же Пуассоновский бутстрап сильно упрощает вычисления, т.к. не создаёт подвыборки из группы, а генерирует, сколько раз каждое из значений попало бы в подвыборку.\n",
    "\n",
    "Сымитировав проведения множества экспериментов, далее мы будем работать с распределниями глобальных CTR в контрольной и экспериментальной группах, построенными из выборочных CTR'ов. И среднее такого распределения будет стремится к реальному CTR."
   ]
  },
  {
   "cell_type": "code",
   "execution_count": 29,
   "id": "4988c4d2-645e-4420-a8e6-93fe1fe23a2c",
   "metadata": {},
   "outputs": [],
   "source": [
    "gl_ctr_control, gl_ctr_target = poisson_bootstrap(df_control.likes.to_numpy(), df_control.views.to_numpy(), df_target.likes.to_numpy(), df_target.views.to_numpy())"
   ]
  },
  {
   "cell_type": "code",
   "execution_count": 30,
   "id": "c26ad719-30d3-44a1-906f-cfd79eb417ab",
   "metadata": {},
   "outputs": [
    {
     "data": {
      "image/png": "[encoded data removed]",
      "text/plain": [
       "<Figure size 1008x576 with 1 Axes>"
      ]
     },
     "metadata": {},
     "output_type": "display_data"
    },
    {
     "name": "stdout",
     "output_type": "stream",
     "text": [
      "0.208 - Среднее control группы\n",
      "0.198 - Среднее target группы\n",
      "Глобальное CTR control группы: 0.208\n",
      "Глобальное CTR target группы: 0.198\n"
     ]
    }
   ],
   "source": [
    "hists(gl_ctr_control, gl_ctr_target, 'control', 'target', 'Распределения глобальных CTR')\n",
    "\n",
    "print(f\"{gl_ctr_control.mean():.3f} - Среднее control группы\\n{gl_ctr_target.mean():.3f} - Среднее target группы\")\n",
    "print(f'Глобальное CTR control группы: {df_control.likes.sum() / df_control.views.sum():.3f}')\n",
    "print(f\"Глобальное CTR target группы: {df_target.likes.sum() / df_target.views.sum():.3f}\")"
   ]
  },
  {
   "cell_type": "markdown",
   "id": "e032b8ab-d823-42b3-b1a3-b69602f94364",
   "metadata": {},
   "source": [
    "Наблюдаем, что средние boot-распределений совпадают с глобальными значениями CTR в исходных группах.\n",
    "\n",
    "Визуально очевидна деградация метрики в экспериментальной группе. И сохранение более высокой дисперсии в экспериментальной группе."
   ]
  },
  {
   "cell_type": "code",
   "execution_count": 31,
   "id": "1ef8b9c1-4468-47b7-ac76-a3d1d389c331",
   "metadata": {},
   "outputs": [
    {
     "data": {
      "image/png": "[encoded data removed]",
      "text/plain": [
       "<Figure size 1008x576 with 1 Axes>"
      ]
     },
     "metadata": {},
     "output_type": "display_data"
    },
    {
     "name": "stdout",
     "output_type": "stream",
     "text": [
      "Дисперсия = 0.00000, Среднее = -0.00993, sigma = 0.00000\n"
     ]
    }
   ],
   "source": [
    "hist_boost(gl_ctr_target - gl_ctr_control, 'Абсолютная разница между экспериментальной и контрольной группами')"
   ]
  },
  {
   "cell_type": "markdown",
   "id": "eeec0279-41f4-41c3-a6d8-b4414f96db5f",
   "metadata": {},
   "source": [
    "Распределение разницы не включает ноль и содержит только отрицательные значение. Следовательно нулевая гипотеза отвергается - выборки не принадлежат одной ГС, изменения есть. Но изменения негативные, глобальный CTRстат значимо понизился.\n",
    "\n",
    "Дисперсия разницы равна нулю, отчего доверительный интервал выродился в среднее разницы вилечин. Что показывает однозначность описанных выше результатов."
   ]
  },
  {
   "cell_type": "markdown",
   "id": "96690cc5-4ce5-4205-98aa-9fe3a29c752b",
   "metadata": {},
   "source": [
    "## Бакетное преобразование"
   ]
  },
  {
   "cell_type": "markdown",
   "id": "ab955387-94f9-4645-a26c-bf69ce1d61f8",
   "metadata": {},
   "source": [
    "Тест с бакетным преобразование также даёт возможность анализировать глобальные метрики, т.к. на основе заданной выборки создает N репрезентативных выборок, которые имитируют N экспериментов.\n",
    "\n",
    "Разобъём выборки на 50 бакетов."
   ]
  },
  {
   "cell_type": "code",
   "execution_count": 32,
   "id": "4ddd5380-16b9-4e25-86a3-aaa844a16912",
   "metadata": {},
   "outputs": [
    {
     "data": {
      "text/html": [
       "<div>\n",
       "<style scoped>\n",
       "    .dataframe tbody tr th:only-of-type {\n",
       "        vertical-align: middle;\n",
       "    }\n",
       "\n",
       "    .dataframe tbody tr th {\n",
       "        vertical-align: top;\n",
       "    }\n",
       "\n",
       "    .dataframe thead th {\n",
       "        text-align: right;\n",
       "    }\n",
       "</style>\n",
       "<table border=\"1\" class=\"dataframe\">\n",
       "  <thead>\n",
       "    <tr style=\"text-align: right;\">\n",
       "      <th></th>\n",
       "      <th>exp_group</th>\n",
       "      <th>bucket</th>\n",
       "      <th>bucket_ctr</th>\n",
       "    </tr>\n",
       "  </thead>\n",
       "  <tbody>\n",
       "    <tr>\n",
       "      <th>0</th>\n",
       "      <td>1</td>\n",
       "      <td>0</td>\n",
       "      <td>0.196481</td>\n",
       "    </tr>\n",
       "    <tr>\n",
       "      <th>1</th>\n",
       "      <td>2</td>\n",
       "      <td>0</td>\n",
       "      <td>0.194262</td>\n",
       "    </tr>\n",
       "    <tr>\n",
       "      <th>2</th>\n",
       "      <td>1</td>\n",
       "      <td>1</td>\n",
       "      <td>0.211887</td>\n",
       "    </tr>\n",
       "    <tr>\n",
       "      <th>3</th>\n",
       "      <td>2</td>\n",
       "      <td>1</td>\n",
       "      <td>0.215328</td>\n",
       "    </tr>\n",
       "    <tr>\n",
       "      <th>4</th>\n",
       "      <td>1</td>\n",
       "      <td>2</td>\n",
       "      <td>0.206271</td>\n",
       "    </tr>\n",
       "  </tbody>\n",
       "</table>\n",
       "</div>"
      ],
      "text/plain": [
       "   exp_group  bucket  bucket_ctr\n",
       "0          1       0    0.196481\n",
       "1          2       0    0.194262\n",
       "2          1       1    0.211887\n",
       "3          2       1    0.215328\n",
       "4          1       2    0.206271"
      ]
     },
     "execution_count": 32,
     "metadata": {},
     "output_type": "execute_result"
    }
   ],
   "source": [
    "df_backet = pd.read_csv('backets_sample.csv')\n",
    "\n",
    "# Код извлечения данных из ClickHouse бд, в результате которого и был получен csv\n",
    "# SELECT \n",
    "#     exp_group, \n",
    "#     bucket,\n",
    "#     sum(likes)/sum(views) as bucket_ctr\n",
    "# FROM (\n",
    "#     SELECT exp_group,\n",
    "#         xxHash64(user_id)%50 as bucket,\n",
    "#         user_id,\n",
    "#         sum(action = 'like') as likes,\n",
    "#         sum(action = 'view') as views,\n",
    "#         likes/views as ctr\n",
    "#     FROM {db}.feed_actions\n",
    "#     WHERE toDate(time) between '2022-07-13' and '2022-07-19'\n",
    "#         and exp_group in (0,1,2,3)\n",
    "#     GROUP BY exp_group, bucket, user_id\n",
    "# )\n",
    "# GROUP BY exp_group, bucket\n",
    "\n",
    "df_backet.head()"
   ]
  },
  {
   "cell_type": "code",
   "execution_count": 33,
   "id": "c71a8afa-ef86-4929-9089-c05505143131",
   "metadata": {},
   "outputs": [],
   "source": [
    "df_b_target, df_b_control = df_backet[df_backet.exp_group == 2], df_backet[df_backet.exp_group == 1]"
   ]
  },
  {
   "cell_type": "code",
   "execution_count": 34,
   "id": "4f27738d-3a2d-4af3-ae36-85a780f536fb",
   "metadata": {},
   "outputs": [
    {
     "data": {
      "image/png": "[encoded data removed]",
      "text/plain": [
       "<Figure size 1008x576 with 1 Axes>"
      ]
     },
     "metadata": {},
     "output_type": "display_data"
    },
    {
     "name": "stdout",
     "output_type": "stream",
     "text": [
      "0.208 - Среднее control группы\n",
      "0.198 - Среднее target группы\n",
      "Глобальное CTR control группы: 0.208\n",
      "Глобальное CTR target группы: 0.198\n"
     ]
    }
   ],
   "source": [
    "hists(df_b_control.bucket_ctr, df_b_target.bucket_ctr, 'control', 'target', 'Распределения CTR в группах', set_bins = 10)\n",
    "\n",
    "print(f\"{df_b_control.bucket_ctr.mean():.3f} - Среднее control группы\\n{df_b_target.bucket_ctr.mean():.3f} - Среднее target группы\")\n",
    "print(f'Глобальное CTR control группы: {df_control.likes.sum() / df_control.views.sum():.3f}')\n",
    "print(f\"Глобальное CTR target группы: {df_target.likes.sum() / df_target.views.sum():.3f}\")"
   ]
  },
  {
   "cell_type": "markdown",
   "id": "26fb5bd9-32b9-4552-ac43-218afdd15d93",
   "metadata": {},
   "source": [
    "Наблюдаем, что средние бакетных распределений совпадают с глобальными значениями CTR в исходных группах.\n",
    "\n",
    "Мы получили нормальное распределение, которое стремится к реальному значению. Благодаря этому мы можем равноценно использовать и Т-тест, и тест Манна-Уитни. Дисперсия всё так же выше у эксперементальной группы и визуально видно, что её пик находится левее, чем пик метрики контрольной группы."
   ]
  },
  {
   "cell_type": "code",
   "execution_count": 35,
   "id": "cd8be628-63dc-46d7-8f20-22bb27c4b0de",
   "metadata": {},
   "outputs": [
    {
     "name": "stdout",
     "output_type": "stream",
     "text": [
      "Т-тест Стьюдента дал p_value = 3.4455951649945907e-07\n",
      "Нулевая гипотеза отвергается, выборки принадлежат разным ГС\n"
     ]
    }
   ],
   "source": [
    "p_val_tt = t_test(df_b_control.bucket_ctr, df_b_target.bucket_ctr)"
   ]
  },
  {
   "cell_type": "code",
   "execution_count": 36,
   "id": "fdc0676c-6570-4d4b-88ef-0536decfd499",
   "metadata": {},
   "outputs": [
    {
     "name": "stdout",
     "output_type": "stream",
     "text": [
      "Тест Манна-Уитни дал p_value = 2.859963936492646e-07\n",
      "Нулевая гипотеза отвергается, выборки принадлежат разным ГС\n"
     ]
    }
   ],
   "source": [
    "p_val_mann = t_mann(df_b_control.bucket_ctr, df_b_target.bucket_ctr)"
   ]
  },
  {
   "cell_type": "code",
   "execution_count": 37,
   "id": "ced36d53-49d1-4c2c-9be0-ac59a1a50617",
   "metadata": {},
   "outputs": [
    {
     "name": "stdout",
     "output_type": "stream",
     "text": [
      "Среднее контрольной группы: 0.208\n",
      "Среднее экспериментальной группы: 0.198\n"
     ]
    }
   ],
   "source": [
    "print(f'Среднее контрольной группы: {df_b_control.bucket_ctr.mean():.3f}\\nСреднее экспериментальной группы: {df_b_target.bucket_ctr.mean():.3f}')"
   ]
  },
  {
   "cell_type": "markdown",
   "id": "3f9abfe4-87b0-4fc9-94d1-e7085ec84329",
   "metadata": {},
   "source": [
    "Оба теста показали те же результаты. Отвергаем Н0, фиксируем отрицательные изменения метрики CTR."
   ]
  },
  {
   "cell_type": "markdown",
   "id": "3546ffa8-04ac-4454-b9de-de762ce9a9db",
   "metadata": {},
   "source": [
    "## Линеаризация ratio-метрик от Яндекса"
   ]
  },
  {
   "cell_type": "markdown",
   "id": "243046e1-ec7a-4159-b0b7-af36a7c7e075",
   "metadata": {},
   "source": [
    "Идея метода: вместо того, чтобы заталкивать в тест «поюзерные» CTR, можно сконструировать другую метрику и анализировать ее, но при этом гарантируется (в отличие от сглаженного CTR), что если тест на этой другой метрике «прокрасится» и увидит изменения, значит изменения есть и в метрике исходной (то есть в лайках на пользователя и в пользовательских CTR.\n",
    "\n",
    "Расчёт метрики:\n",
    "* Считаем общий CTR в контрольной группе  𝐶𝑇𝑅𝑐𝑜𝑛𝑡𝑟𝑜𝑙=𝑠𝑢𝑚(𝑙𝑖𝑘𝑒𝑠)/𝑠𝑢𝑚(𝑣𝑖𝑒𝑤𝑠) \n",
    "* Посчитаем в обеих группах поюзерную метрику  𝑙𝑖𝑛𝑒𝑎𝑟𝑖𝑧𝑒𝑑_𝑙𝑖𝑘𝑒𝑠=𝑙𝑖𝑘𝑒𝑠−𝐶𝑇𝑅𝑐𝑜𝑛𝑡𝑟𝑜𝑙∗𝑣𝑖𝑒𝑤𝑠 \n",
    "* После чего сравним  t-тестом отличия в группах по метрике 𝑙𝑖𝑛𝑒𝑎𝑟𝑖𝑧𝑒𝑑_𝑙𝑖𝑘𝑒𝑠  \n",
    "\n",
    "Метод простой, гарантируется, что при приличном размере выборки (как у нас — подойдет) можно бесплатно увеличить чувствительность вашей метрики (или, по крайней мере, не сделать хуже)."
   ]
  },
  {
   "cell_type": "code",
   "execution_count": 38,
   "id": "da3ac947-e846-4d91-acb9-ad89eb338396",
   "metadata": {},
   "outputs": [],
   "source": [
    "# Считаем глобальный CTR в контрольной группе\n",
    "global_ctr = sum(df_ab[df_ab.exp_group == 1].likes) / sum(df_ab[df_ab.exp_group == 1].views)"
   ]
  },
  {
   "cell_type": "code",
   "execution_count": 39,
   "id": "36a03030-047e-4a5b-bc45-5c8e35119b69",
   "metadata": {},
   "outputs": [],
   "source": [
    "#добавляем для каждой группы свою метрику линеаризированных лайков относительно  глобального CTR соотвествующей контрольной группы\n",
    "df_ab['linearized_likes'] = df_ab.likes - global_ctr * df_ab.views"
   ]
  },
  {
   "cell_type": "code",
   "execution_count": 40,
   "id": "8f981e9f-1984-447d-9cf6-3389ddc7449b",
   "metadata": {},
   "outputs": [],
   "source": [
    "# Разбиваем основной датафрейм на дополнительных относительно их номера группы в экспериментах \n",
    "df_lc_control, df_lc_target = df_ab[df_ab.exp_group == 1], df_ab[df_ab.exp_group == 2]"
   ]
  },
  {
   "cell_type": "markdown",
   "id": "18a348ba-f3a9-4e0b-909f-6a95fc98388f",
   "metadata": {},
   "source": [
    "Посмотрим, как визуально изменилась метрика вовлеченности пользователя. CTR нормированная величина, поэтому умножим её на 100 для наглядности."
   ]
  },
  {
   "cell_type": "code",
   "execution_count": 41,
   "id": "9eaa2a73-f3cd-48c5-95b6-582e342fa47a",
   "metadata": {},
   "outputs": [
    {
     "data": {
      "image/png": "[encoded data removed]",
      "text/plain": [
       "<Figure size 1008x576 with 1 Axes>"
      ]
     },
     "metadata": {},
     "output_type": "display_data"
    },
    {
     "name": "stdout",
     "output_type": "stream",
     "text": [
      "Контрольная группа:\n",
      "7.083 - Дисперсия CTR*100\n",
      "24.176 - Дисперсия linearized_likes\n"
     ]
    },
    {
     "data": {
      "image/png": "[encoded data removed]",
      "text/plain": [
       "<Figure size 1008x576 with 1 Axes>"
      ]
     },
     "metadata": {},
     "output_type": "display_data"
    },
    {
     "name": "stdout",
     "output_type": "stream",
     "text": [
      "Экспериментальная группа:\n",
      "207.879 - Дисперсия CTR*100\n",
      "91.521 - Дисперсия linearized_likes\n"
     ]
    }
   ],
   "source": [
    "hists(df_lc_control.ctr*100, df_lc_control.linearized_likes, 'CTR*100', 'linearized_likes', 'Контрольная группа', set_bins = 100)\n",
    "print(f\"Контрольная группа:\\n{df_lc_control.ctr.var()*1000:.3f} - Дисперсия CTR*100\\n{df_lc_control.linearized_likes.var():.3f} - Дисперсия linearized_likes\")\n",
    "\n",
    "hists(df_lc_target.ctr*100, df_lc_target.linearized_likes, 'CTR*100', 'linearized_likes', 'Экспериментальная группа', set_bins = 100)\n",
    "print(f\"Экспериментальная группа:\\n{df_lc_target.ctr.var()*10000:.3f} - Дисперсия CTR*100\\n{df_lc_target.linearized_likes.var():.3f} - Дисперсия linearized_likes\")"
   ]
  },
  {
   "cell_type": "markdown",
   "id": "acb90495-ad2d-4ba5-ac41-9ee1619ca82f",
   "metadata": {},
   "source": [
    "Благодаря линеаризации метрика визуально приобрела вид нормального распределения, уменьшила дисперсию. Таким образом мы повысили чувствительность и можем использовать Т-тест, доверяя его результатам.\n",
    "\n",
    "Проведём тест для старой и новой метрики и посмотрим, как изменятся его результаты."
   ]
  },
  {
   "cell_type": "code",
   "execution_count": 42,
   "id": "17f69840-0015-4d71-880f-cd1097c6c00d",
   "metadata": {},
   "outputs": [
    {
     "name": "stdout",
     "output_type": "stream",
     "text": [
      "Т-тест Стьюдента дал p_value = 9.439432187037712e-10\n",
      "Нулевая гипотеза отвергается, выборки принадлежат разным ГС\n"
     ]
    }
   ],
   "source": [
    "p_valt = t_test(df_lc_control.linearized_likes, df_lc_target.linearized_likes)  # Новая метрика"
   ]
  },
  {
   "cell_type": "code",
   "execution_count": 43,
   "id": "6f993216-c0b6-488e-9a1c-3bb7feabbf2d",
   "metadata": {},
   "outputs": [
    {
     "name": "stdout",
     "output_type": "stream",
     "text": [
      "Т-тест Стьюдента дал p_value = 0.4780623130874935\n",
      "Нулевая гипотеза принимается, выборки принадлежат одной ГС\n"
     ]
    }
   ],
   "source": [
    "p_val_tt = t_test(df_lc_control.ctr, df_lc_target.ctr)  # Старая метрика "
   ]
  },
  {
   "cell_type": "markdown",
   "id": "9bfbb072-894d-4b97-b4af-35a2c35f731f",
   "metadata": {},
   "source": [
    "Старая метрика имеет ненормальное распределение, поэтому сырой тест даёт ненадежные результаты. После преобразования метрика приобрела визуально нормальный вид и теперь Т-тест даёт надежные результаты."
   ]
  },
  {
   "cell_type": "markdown",
   "id": "9aa482ff-b33e-4e50-b2ae-cbadda17c078",
   "metadata": {},
   "source": [
    "# Выводы"
   ]
  },
  {
   "cell_type": "code",
   "execution_count": 44,
   "id": "37b54eb0-3058-46dd-b4d4-7381e27ed35a",
   "metadata": {},
   "outputs": [
    {
     "data": {
      "image/png": "[encoded data removed]",
      "text/plain": [
       "<Figure size 1008x576 with 1 Axes>"
      ]
     },
     "metadata": {},
     "output_type": "display_data"
    }
   ],
   "source": [
    "hists(df_control.ctr, df_target.ctr, 'control', 'target', 'Распределения CTR в группах')"
   ]
  },
  {
   "cell_type": "markdown",
   "id": "a0f429f2-3f33-41d4-ae0c-ea6c548d6df4",
   "metadata": {},
   "source": [
    "Если смотреть на картину в целом, то результаты нововведния стат значимы и негативно влияют на продукт.\n",
    "\n",
    "Если смотреть на результат глубже, то можно сказать, что эксперимент был не бессмысленным. Пользователи сгруппировались в два пика - и для одного из них тест достиг цели, CTR возросла. Результаты можно отправить на доработку, если выявить, что объединяет пользователей в обоих пиках. Попробывать сохранить улучшения для правого пика и доработать алгоритм для пользователей левого пика.\n",
    "\n",
    "Но при этом на всех пользователей в целом выкатывать не стоит, тк глобального метрика стат значимо упала."
   ]
  }
 ],
 "metadata": {
  "kernelspec": {
   "display_name": "Python 3 (ipykernel)",
   "language": "python",
   "name": "python3"
  },
  "language_info": {
   "codemirror_mode": {
    "name": "ipython",
    "version": 3
   },
   "file_extension": ".py",
   "mimetype": "text/x-python",
   "name": "python",
   "nbconvert_exporter": "python",
   "pygments_lexer": "ipython3",
   "version": "3.8.10"
  }
 },
 "nbformat": 4,
 "nbformat_minor": 5
}
