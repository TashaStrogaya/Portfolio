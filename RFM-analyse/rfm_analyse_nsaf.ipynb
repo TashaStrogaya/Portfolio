{
 "cells": [
  {
   "cell_type": "markdown",
   "id": "96630fdd-f483-4d92-abe0-c2c5265f5981",
   "metadata": {},
   "source": [
    "# RFM-анализ"
   ]
  },
  {
   "cell_type": "markdown",
   "id": "569bf368-be68-4579-a885-83abb59d48ae",
   "metadata": {},
   "source": [
    "## Описание задачи"
   ]
  },
  {
   "cell_type": "markdown",
   "id": "2acc0e19-23ce-43dd-b629-567ee3fa8ae7",
   "metadata": {},
   "source": [
    "Для нализа выбран датасет транзакций онлайн магазина, основной продукт которого - уникальная подарочная продукция на все случаи жизни. Многие покупатели являются оптовиками.\n",
    "\n",
    "Цель - определить поведение покупателей, распределить похожих на группы и выбрать методики взаимодействий с ними."
   ]
  },
  {
   "cell_type": "markdown",
   "id": "145282b0-3ae1-4c94-a4f8-5be4f0849f01",
   "metadata": {},
   "source": [
    "## Обработка данных"
   ]
  },
  {
   "cell_type": "code",
   "execution_count": 2,
   "id": "146d3504-61c3-4db2-a9d0-787e76ce70ea",
   "metadata": {},
   "outputs": [],
   "source": [
    "#подключаемся к библиотекам\n",
    "import pandas as pd\n",
    "from datetime import datetime, timedelta\n",
    "from scipy import stats\n",
    "import seaborn as sns\n",
    "import matplotlib.pyplot as plt\n",
    "import numpy as np\n",
    "from matplotlib.patches import Rectangle\n",
    "\n",
    "sns.set(rc={'figure.figsize':(10, 6)})"
   ]
  },
  {
   "cell_type": "code",
   "execution_count": 36,
   "id": "04657c00-564d-4f52-a298-4c66d94a94d2",
   "metadata": {},
   "outputs": [],
   "source": [
    "df = pd.read_csv('online_retail_listing.csv',  encoding=\"latin-1\", sep=';', decimal=',')"
   ]
  },
  {
   "cell_type": "markdown",
   "id": "e9b188e9-6f58-4f73-b324-93a8c06a128c",
   "metadata": {},
   "source": [
    "Посмотрим на данные"
   ]
  },
  {
   "cell_type": "code",
   "execution_count": 37,
   "id": "14359b3e-7dd4-49c9-b77e-9086c643cafa",
   "metadata": {},
   "outputs": [
    {
     "name": "stdout",
     "output_type": "stream",
     "text": [
      "Форма датафрейма: (1048575, 8)\n"
     ]
    },
    {
     "data": {
      "text/html": [
       "<div>\n",
       "<style scoped>\n",
       "    .dataframe tbody tr th:only-of-type {\n",
       "        vertical-align: middle;\n",
       "    }\n",
       "\n",
       "    .dataframe tbody tr th {\n",
       "        vertical-align: top;\n",
       "    }\n",
       "\n",
       "    .dataframe thead th {\n",
       "        text-align: right;\n",
       "    }\n",
       "</style>\n",
       "<table border=\"1\" class=\"dataframe\">\n",
       "  <thead>\n",
       "    <tr style=\"text-align: right;\">\n",
       "      <th></th>\n",
       "      <th>Invoice</th>\n",
       "      <th>StockCode</th>\n",
       "      <th>Description</th>\n",
       "      <th>Quantity</th>\n",
       "      <th>InvoiceDate</th>\n",
       "      <th>Price</th>\n",
       "      <th>Customer ID</th>\n",
       "      <th>Country</th>\n",
       "    </tr>\n",
       "  </thead>\n",
       "  <tbody>\n",
       "    <tr>\n",
       "      <th>0</th>\n",
       "      <td>489434</td>\n",
       "      <td>85048</td>\n",
       "      <td>15CM CHRISTMAS GLASS BALL 20 LIGHTS</td>\n",
       "      <td>12</td>\n",
       "      <td>1.12.2009 07:45</td>\n",
       "      <td>6.95</td>\n",
       "      <td>13085.0</td>\n",
       "      <td>United Kingdom</td>\n",
       "    </tr>\n",
       "    <tr>\n",
       "      <th>1</th>\n",
       "      <td>489434</td>\n",
       "      <td>79323P</td>\n",
       "      <td>PINK CHERRY LIGHTS</td>\n",
       "      <td>12</td>\n",
       "      <td>1.12.2009 07:45</td>\n",
       "      <td>6.75</td>\n",
       "      <td>13085.0</td>\n",
       "      <td>United Kingdom</td>\n",
       "    </tr>\n",
       "    <tr>\n",
       "      <th>2</th>\n",
       "      <td>489434</td>\n",
       "      <td>79323W</td>\n",
       "      <td>WHITE CHERRY LIGHTS</td>\n",
       "      <td>12</td>\n",
       "      <td>1.12.2009 07:45</td>\n",
       "      <td>6.75</td>\n",
       "      <td>13085.0</td>\n",
       "      <td>United Kingdom</td>\n",
       "    </tr>\n",
       "    <tr>\n",
       "      <th>3</th>\n",
       "      <td>489434</td>\n",
       "      <td>22041</td>\n",
       "      <td>RECORD FRAME 7\" SINGLE SIZE</td>\n",
       "      <td>48</td>\n",
       "      <td>1.12.2009 07:45</td>\n",
       "      <td>2.10</td>\n",
       "      <td>13085.0</td>\n",
       "      <td>United Kingdom</td>\n",
       "    </tr>\n",
       "    <tr>\n",
       "      <th>4</th>\n",
       "      <td>489434</td>\n",
       "      <td>21232</td>\n",
       "      <td>STRAWBERRY CERAMIC TRINKET BOX</td>\n",
       "      <td>24</td>\n",
       "      <td>1.12.2009 07:45</td>\n",
       "      <td>1.25</td>\n",
       "      <td>13085.0</td>\n",
       "      <td>United Kingdom</td>\n",
       "    </tr>\n",
       "  </tbody>\n",
       "</table>\n",
       "</div>"
      ],
      "text/plain": [
       "  Invoice StockCode                          Description  Quantity  \\\n",
       "0  489434     85048  15CM CHRISTMAS GLASS BALL 20 LIGHTS        12   \n",
       "1  489434    79323P                   PINK CHERRY LIGHTS        12   \n",
       "2  489434    79323W                  WHITE CHERRY LIGHTS        12   \n",
       "3  489434     22041         RECORD FRAME 7\" SINGLE SIZE         48   \n",
       "4  489434     21232       STRAWBERRY CERAMIC TRINKET BOX        24   \n",
       "\n",
       "       InvoiceDate  Price  Customer ID         Country  \n",
       "0  1.12.2009 07:45   6.95      13085.0  United Kingdom  \n",
       "1  1.12.2009 07:45   6.75      13085.0  United Kingdom  \n",
       "2  1.12.2009 07:45   6.75      13085.0  United Kingdom  \n",
       "3  1.12.2009 07:45   2.10      13085.0  United Kingdom  \n",
       "4  1.12.2009 07:45   1.25      13085.0  United Kingdom  "
      ]
     },
     "execution_count": 37,
     "metadata": {},
     "output_type": "execute_result"
    }
   ],
   "source": [
    "print(f\"Форма датафрейма: {df.shape}\")\n",
    "df.head()"
   ]
  },
  {
   "cell_type": "markdown",
   "id": "cb60c180-35ed-4e14-86e9-9a066a127eb4",
   "metadata": {},
   "source": [
    "Для удобства я заменю поменяю правила написания имен столбцов и переведу формат столбца даты со строки на дату_время."
   ]
  },
  {
   "cell_type": "code",
   "execution_count": 40,
   "id": "539bc30e-0f19-4201-a9b5-44a610537b91",
   "metadata": {
    "tags": []
   },
   "outputs": [],
   "source": [
    "df = df.rename(columns={'Customer ID': 'customer_id', 'Invoice': 'invoice', 'StockCode' : 'stock_code', 'Description' : 'description', \n",
    "                   'Price' : 'price', 'Country' : 'country', 'Quantity' : 'quantity', 'InvoiceDate' : 'invoice_date'})"
   ]
  },
  {
   "cell_type": "code",
   "execution_count": 41,
   "id": "4fc647fb-4cc2-43f2-9711-91796f66bd7d",
   "metadata": {},
   "outputs": [],
   "source": [
    "df['invoice_date'] = pd.to_datetime(df['invoice_date'])"
   ]
  },
  {
   "cell_type": "markdown",
   "id": "6834d60d-e4fd-44d4-8775-cfb6d92f7ca2",
   "metadata": {},
   "source": [
    "Посмотрим на временные рамки датафрейма."
   ]
  },
  {
   "cell_type": "code",
   "execution_count": 42,
   "id": "dcab343d-d8e9-43e6-813c-4dbcda49454e",
   "metadata": {},
   "outputs": [
    {
     "name": "stdout",
     "output_type": "stream",
     "text": [
      "Mах дата транзакции: 2011-12-10 17:19:00\n",
      "Min дата транзакции: 2009-01-12 07:45:00\n"
     ]
    }
   ],
   "source": [
    "print(f\"Mах дата транзакции: {df.invoice_date.max()}\")\n",
    "print(f\"Min дата транзакции: {df.invoice_date.min()}\")"
   ]
  },
  {
   "cell_type": "markdown",
   "id": "40ea9c01-930a-4652-9bec-e3be2a546a42",
   "metadata": {},
   "source": [
    "Так как не целесообразно для rfm-анализа брать окно расчёта более, чем в один год, то я отфильтровую датасет, взяв данные только за 2010 год. К тому же только по нему данные являются полными (включают все сезоны)."
   ]
  },
  {
   "cell_type": "code",
   "execution_count": 44,
   "id": "fd1aa07b-2750-4701-91e5-f00265931f6b",
   "metadata": {},
   "outputs": [],
   "source": [
    "df = df[df.invoice_date.dt.year == 2010]"
   ]
  },
  {
   "cell_type": "code",
   "execution_count": 45,
   "id": "ed545a3d-2271-4800-8790-1e89706c4b65",
   "metadata": {},
   "outputs": [
    {
     "name": "stdout",
     "output_type": "stream",
     "text": [
      "Новая форма датафрейма: (522714, 8)\n"
     ]
    }
   ],
   "source": [
    "print(f\"Новая форма датафрейма: {df.shape}\")"
   ]
  },
  {
   "cell_type": "markdown",
   "id": "28cfe137-0f22-4b27-8c8b-2d217c9582bc",
   "metadata": {},
   "source": [
    "У нас есть возвраты, в данных они характеризуются как записи с отрицательной или нулевой ценой или отрицательным количеством. Отсечем эти данные."
   ]
  },
  {
   "cell_type": "code",
   "execution_count": 47,
   "id": "e87c0e87-ed6f-484b-8537-7d307f317783",
   "metadata": {},
   "outputs": [],
   "source": [
    "df = df.query('price > 0 and quantity > 0')"
   ]
  },
  {
   "cell_type": "code",
   "execution_count": 48,
   "id": "719ecf36-661e-4802-8f29-9e6571f552d9",
   "metadata": {},
   "outputs": [
    {
     "name": "stdout",
     "output_type": "stream",
     "text": [
      "Новая форма датафрейма: (509089, 8)\n"
     ]
    }
   ],
   "source": [
    "print(f\"Новая форма датафрейма: {df.shape}\")"
   ]
  },
  {
   "cell_type": "code",
   "execution_count": 52,
   "id": "343e1d7d-7b7c-429b-8181-a198dbd0170c",
   "metadata": {},
   "outputs": [],
   "source": [
    "# Получаем общую сумму транзакции одной позиции, перемножая стоимость товара на момент покупки и количество купленного\n",
    "\n",
    "df['sum'] = df.price * df.quantity"
   ]
  },
  {
   "cell_type": "markdown",
   "id": "fe82fb24-b7ce-4447-b6c7-fd19c58dbb5b",
   "metadata": {},
   "source": [
    "ТК мы анализируем поведение пользователя, данные необходимо агрегировать по ним.\n",
    "\n",
    "Для расчёта параметра *recency*, возьмём последнюю дату покупки *last_date*, для *frequency* количество уникальных транзакций (тк в датасете одна транзакция разбита построчно по товарам) *cnt_purchases*, для *monetary* - общую сумму чека *total_bill*."
   ]
  },
  {
   "cell_type": "code",
   "execution_count": 53,
   "id": "1404bdcd-52ba-4e66-8b05-0cd813f2505f",
   "metadata": {},
   "outputs": [],
   "source": [
    "cust = df.groupby('customer_id' , as_index = False).agg(total_bill = ('sum', 'sum'), last_date = ('invoice_date', 'max'), cnt_purchases = ('invoice', 'nunique'))"
   ]
  },
  {
   "cell_type": "code",
   "execution_count": 55,
   "id": "3a7b45cd-b2a9-4943-9283-f30987a84a1a",
   "metadata": {},
   "outputs": [
    {
     "name": "stdout",
     "output_type": "stream",
     "text": [
      "Форма датафрейма: (4231, 4)\n"
     ]
    },
    {
     "data": {
      "text/html": [
       "<div>\n",
       "<style scoped>\n",
       "    .dataframe tbody tr th:only-of-type {\n",
       "        vertical-align: middle;\n",
       "    }\n",
       "\n",
       "    .dataframe tbody tr th {\n",
       "        vertical-align: top;\n",
       "    }\n",
       "\n",
       "    .dataframe thead th {\n",
       "        text-align: right;\n",
       "    }\n",
       "</style>\n",
       "<table border=\"1\" class=\"dataframe\">\n",
       "  <thead>\n",
       "    <tr style=\"text-align: right;\">\n",
       "      <th></th>\n",
       "      <th>customer_id</th>\n",
       "      <th>total_bill</th>\n",
       "      <th>last_date</th>\n",
       "      <th>cnt_purchases</th>\n",
       "    </tr>\n",
       "  </thead>\n",
       "  <tbody>\n",
       "    <tr>\n",
       "      <th>0</th>\n",
       "      <td>12346.0</td>\n",
       "      <td>259.36</td>\n",
       "      <td>2010-06-28 13:53:00</td>\n",
       "      <td>6</td>\n",
       "    </tr>\n",
       "    <tr>\n",
       "      <th>1</th>\n",
       "      <td>12347.0</td>\n",
       "      <td>2035.11</td>\n",
       "      <td>2010-10-31 14:20:00</td>\n",
       "      <td>2</td>\n",
       "    </tr>\n",
       "    <tr>\n",
       "      <th>2</th>\n",
       "      <td>12348.0</td>\n",
       "      <td>1114.96</td>\n",
       "      <td>2010-12-16 19:09:00</td>\n",
       "      <td>2</td>\n",
       "    </tr>\n",
       "    <tr>\n",
       "      <th>3</th>\n",
       "      <td>12349.0</td>\n",
       "      <td>2671.14</td>\n",
       "      <td>2010-10-28 08:23:00</td>\n",
       "      <td>3</td>\n",
       "    </tr>\n",
       "    <tr>\n",
       "      <th>4</th>\n",
       "      <td>12351.0</td>\n",
       "      <td>300.93</td>\n",
       "      <td>2010-11-29 15:23:00</td>\n",
       "      <td>1</td>\n",
       "    </tr>\n",
       "  </tbody>\n",
       "</table>\n",
       "</div>"
      ],
      "text/plain": [
       "   customer_id  total_bill           last_date  cnt_purchases\n",
       "0      12346.0      259.36 2010-06-28 13:53:00              6\n",
       "1      12347.0     2035.11 2010-10-31 14:20:00              2\n",
       "2      12348.0     1114.96 2010-12-16 19:09:00              2\n",
       "3      12349.0     2671.14 2010-10-28 08:23:00              3\n",
       "4      12351.0      300.93 2010-11-29 15:23:00              1"
      ]
     },
     "execution_count": 55,
     "metadata": {},
     "output_type": "execute_result"
    }
   ],
   "source": [
    "print(f\"Форма датафрейма: {cust.shape}\")\n",
    "cust.head()"
   ]
  },
  {
   "cell_type": "markdown",
   "id": "f26508c9-97e0-42f5-b127-da70c9b234cc",
   "metadata": {},
   "source": [
    "Для удобства дальнейшего расчёта *recency*, введём новый параметр - количество дней с прошлой покупки - day distance *(day_dist)*. Расчёт будет вестись относительно последующего дня после последней покупки в датафрейме."
   ]
  },
  {
   "cell_type": "code",
   "execution_count": 56,
   "id": "cbc5ecb1-b8d5-487e-a78f-539f6445420b",
   "metadata": {},
   "outputs": [],
   "source": [
    "end_date = cust.last_date.max() + timedelta(1)\n",
    "\n",
    "cust['day_dist'] = cust.last_date.apply(lambda x: (end_date - x).days)"
   ]
  },
  {
   "cell_type": "markdown",
   "id": "ebc79df2-fb6c-4efd-8fb0-a7a2d2c1e6d6",
   "metadata": {},
   "source": [
    "## Распределение по группам"
   ]
  },
  {
   "cell_type": "markdown",
   "id": "c6b6eac8-d577-4f20-ba98-f5fa340e32dc",
   "metadata": {},
   "source": [
    "Данные обработаны, теперь приступим к rfm-анализу.\n",
    "\n",
    "Посмотрим на данные, построив их распределение по каждой из категорий (r/f/m) и взглянув на их квартили.\n",
    "\n",
    "Гуппы будут нумероваться из правила: 3 - лучшая, 1 - худшая."
   ]
  },
  {
   "cell_type": "code",
   "execution_count": 58,
   "id": "225bb295-e4d0-4ef2-88af-c590c551142c",
   "metadata": {},
   "outputs": [
    {
     "data": {
      "text/html": [
       "<div>\n",
       "<style scoped>\n",
       "    .dataframe tbody tr th:only-of-type {\n",
       "        vertical-align: middle;\n",
       "    }\n",
       "\n",
       "    .dataframe tbody tr th {\n",
       "        vertical-align: top;\n",
       "    }\n",
       "\n",
       "    .dataframe thead th {\n",
       "        text-align: right;\n",
       "    }\n",
       "</style>\n",
       "<table border=\"1\" class=\"dataframe\">\n",
       "  <thead>\n",
       "    <tr style=\"text-align: right;\">\n",
       "      <th></th>\n",
       "      <th>day_dist</th>\n",
       "      <th>cnt_purchases</th>\n",
       "      <th>total_bill</th>\n",
       "    </tr>\n",
       "  </thead>\n",
       "  <tbody>\n",
       "    <tr>\n",
       "      <th>count</th>\n",
       "      <td>4231.000000</td>\n",
       "      <td>4231.000000</td>\n",
       "      <td>4231.000000</td>\n",
       "    </tr>\n",
       "    <tr>\n",
       "      <th>mean</th>\n",
       "      <td>100.245096</td>\n",
       "      <td>4.331127</td>\n",
       "      <td>2060.520682</td>\n",
       "    </tr>\n",
       "    <tr>\n",
       "      <th>std</th>\n",
       "      <td>92.046805</td>\n",
       "      <td>7.886804</td>\n",
       "      <td>8736.035987</td>\n",
       "    </tr>\n",
       "    <tr>\n",
       "      <th>min</th>\n",
       "      <td>1.000000</td>\n",
       "      <td>1.000000</td>\n",
       "      <td>3.750000</td>\n",
       "    </tr>\n",
       "    <tr>\n",
       "      <th>25%</th>\n",
       "      <td>30.000000</td>\n",
       "      <td>1.000000</td>\n",
       "      <td>311.255000</td>\n",
       "    </tr>\n",
       "    <tr>\n",
       "      <th>50%</th>\n",
       "      <td>67.000000</td>\n",
       "      <td>2.000000</td>\n",
       "      <td>729.480000</td>\n",
       "    </tr>\n",
       "    <tr>\n",
       "      <th>75%</th>\n",
       "      <td>150.000000</td>\n",
       "      <td>5.000000</td>\n",
       "      <td>1738.335000</td>\n",
       "    </tr>\n",
       "    <tr>\n",
       "      <th>max</th>\n",
       "      <td>356.000000</td>\n",
       "      <td>201.000000</td>\n",
       "      <td>335993.220000</td>\n",
       "    </tr>\n",
       "  </tbody>\n",
       "</table>\n",
       "</div>"
      ],
      "text/plain": [
       "          day_dist  cnt_purchases     total_bill\n",
       "count  4231.000000    4231.000000    4231.000000\n",
       "mean    100.245096       4.331127    2060.520682\n",
       "std      92.046805       7.886804    8736.035987\n",
       "min       1.000000       1.000000       3.750000\n",
       "25%      30.000000       1.000000     311.255000\n",
       "50%      67.000000       2.000000     729.480000\n",
       "75%     150.000000       5.000000    1738.335000\n",
       "max     356.000000     201.000000  335993.220000"
      ]
     },
     "execution_count": 58,
     "metadata": {},
     "output_type": "execute_result"
    }
   ],
   "source": [
    "cust[['day_dist', 'cnt_purchases', 'total_bill']].describe()"
   ]
  },
  {
   "cell_type": "markdown",
   "id": "b42b158b-402e-4cc3-9f4b-4cd5b009fbb2",
   "metadata": {},
   "source": [
    "### Recency"
   ]
  },
  {
   "cell_type": "code",
   "execution_count": 64,
   "id": "bec67275-c3b9-4830-b4d0-94227336e94e",
   "metadata": {},
   "outputs": [
    {
     "data": {
      "image/png": "[encoded data removed]",
      "text/plain": [
       "<Figure size 720x432 with 1 Axes>"
      ]
     },
     "metadata": {},
     "output_type": "display_data"
    },
    {
     "data": {
      "image/png": "[encoded data removed]",
      "text/plain": [
       "<Figure size 720x432 with 1 Axes>"
      ]
     },
     "metadata": {},
     "output_type": "display_data"
    }
   ],
   "source": [
    "sns.histplot(cust.day_dist)\n",
    "plt.title('Day distance (recency)', size = 14)\n",
    "plt.show()\n",
    "sns.histplot(cust[cust.day_dist < 120].day_dist)\n",
    "plt.title('Day distance (recency) < 120 days', size = 14);"
   ]
  },
  {
   "cell_type": "markdown",
   "id": "cced03cb-236d-4b37-afc9-facb359b2eee",
   "metadata": {},
   "source": [
    "Тк магазин продаёт подарочную продукцию, то я возьму пробные границы из рыночных соображений: лояльный - покупал за последний месяц товар (еще хорошо помнит о нас), спящий - покупал до 4 месяцев (еще не забыл наш сервис), отток - покупки не было в последние 4 месяца - возможна потеря инетерса.\n",
    "\n",
    "И визуально мы видим, что хвост имеет примерно стабильные значения после 100, и мы видим два пика до 40.\n",
    "\n",
    "В случае recency группы я и ожидаю получить сбалансированные. Тк для подарочной проудкции раз в покупка раз в месяц уже лояльное поведние, но рамки широкие - кдиентов будет много. Свыше 4 месяцев - клиент уже может забыть о нас, для подарочной продукции также частое явление - разовая покупка - поэтому группа будет большой. И иногда покупающие между этими границами также буду распространены."
   ]
  },
  {
   "cell_type": "code",
   "execution_count": 85,
   "id": "e80feb89-379e-4cd1-9ad9-291199624ca1",
   "metadata": {},
   "outputs": [
    {
     "name": "stdout",
     "output_type": "stream",
     "text": [
      "Объёмы покупателей в группах\n",
      "1331 - 1 категория\n",
      "1779 - 2 категория\n",
      "1121 - 3 категория\n",
      "\n",
      "692 - свыше 7 мясецев\n"
     ]
    }
   ],
   "source": [
    "print(\"Объёмы покупателей в группах\")\n",
    "print(f\"{cust.query('day_dist >= 120').customer_id.count()} - 1 категория\")\n",
    "print(f\"{cust.query('day_dist < 120 and day_dist > 30').customer_id.count()} - 2 категория\")\n",
    "print(f\"{cust.query('day_dist <= 30').customer_id.count()} - 3 категория\")\n",
    "\n",
    "print(f\"\\n{cust.query('day_dist >= 210').customer_id.count()} - свыше 7 мясецев\")"
   ]
  },
  {
   "cell_type": "markdown",
   "id": "3282dc29-93f1-44f0-8287-ecfce4586309",
   "metadata": {},
   "source": [
    "Посмотрев на объём этих групп, я закреплю пробные границы. Также отмечу, что много потерянных клиентов (половина 1 категории), которые уже вероятно не вернутся."
   ]
  },
  {
   "cell_type": "markdown",
   "id": "d882817c-2361-4f52-a810-f012dd4ce884",
   "metadata": {},
   "source": [
    "### Frequency"
   ]
  },
  {
   "cell_type": "code",
   "execution_count": 67,
   "id": "4f389201-0c4b-4d21-9398-f7485a958a2f",
   "metadata": {},
   "outputs": [
    {
     "data": {
      "image/png": "[encoded data removed]",
      "text/plain": [
       "<Figure size 720x432 with 1 Axes>"
      ]
     },
     "metadata": {},
     "output_type": "display_data"
    },
    {
     "data": {
      "image/png": "[encoded data removed]",
      "text/plain": [
       "<Figure size 720x432 with 1 Axes>"
      ]
     },
     "metadata": {},
     "output_type": "display_data"
    }
   ],
   "source": [
    "sns.histplot(cust.cnt_purchases)\n",
    "plt.title('Count of purchases (frequency)', size = 14)\n",
    "plt.show()\n",
    "sns.histplot(cust[cust.cnt_purchases < 30].cnt_purchases)\n",
    "plt.title('Count of purchases (frequency) < 30 cnt', size = 14);"
   ]
  },
  {
   "cell_type": "markdown",
   "id": "a39858d3-0b96-492c-bb48-41e396391891",
   "metadata": {},
   "source": [
    "В прошлом пункте о границах recency я говорила как: лояльный - покупал за последний месяц товар (еще хорошо помнит о нас), спящий - покупал до 4 месяцев (еще не забыл наш сервис), отток - покупки не было в последние 4 месяца - возможна потеря инетерса\n",
    "\n",
    "Сохраняя эту логику для frequnce я возьму границы: лояльный - покупает 12 или более раз в год, спящий - от 4 до 12 (не включительно), отток - менее 4 раз в год.\n",
    "\n",
    "Также в графиках наблюдается: длинный слабовыделенный хвост после 25 покупок в год, и пик разовой покупки."
   ]
  },
  {
   "cell_type": "code",
   "execution_count": 86,
   "id": "6eafc66f-8bc2-42d7-84d2-1bd445beedf6",
   "metadata": {},
   "outputs": [
    {
     "name": "stdout",
     "output_type": "stream",
     "text": [
      "Объёмы покупателей в группах\n",
      "2731 - 1 категория\n",
      "1234 - 2 категория\n",
      "266 - 3 категория\n",
      "\n",
      "1418 - разовая покупка из 1 категория\n",
      "45 - оптовики из 3 категории\n"
     ]
    }
   ],
   "source": [
    "print(\"Объёмы покупателей в группах\")\n",
    "print(f\"{cust.query('cnt_purchases < 4').customer_id.count()} - 1 категория\")\n",
    "print(f\"{cust.query('cnt_purchases >= 4 and cnt_purchases < 12').customer_id.count()} - 2 категория\")\n",
    "print(f\"{cust.query('cnt_purchases >= 12').customer_id.count()} - 3 категория\")\n",
    "\n",
    "print(f\"\\n{cust.query('cnt_purchases <= 1').customer_id.count()} - разовая покупка из 1 категория\")\n",
    "print(f\"{cust.query('cnt_purchases >= 30').customer_id.count()} - оптовики из 3 категории\")"
   ]
  },
  {
   "cell_type": "code",
   "execution_count": 87,
   "id": "646b068e-43f3-4bbc-934e-df2345680714",
   "metadata": {},
   "outputs": [
    {
     "name": "stdout",
     "output_type": "stream",
     "text": [
      "Объёмы покупок в группах\n",
      "4550 покупок - 1 категория\n",
      "7473 покупок - 2 категория\n",
      "6302 покупок - 3 категория\n"
     ]
    }
   ],
   "source": [
    "print(\"Объёмы покупок в группах\")\n",
    "print(f\"{cust.query('cnt_purchases < 4').cnt_purchases.sum()} покупок - 1 категория\")\n",
    "print(f\"{cust.query('cnt_purchases >= 4 and cnt_purchases < 12').cnt_purchases.sum()} покупок - 2 категория\")\n",
    "print(f\"{cust.query('cnt_purchases >= 12').cnt_purchases.sum()} покупок - 3 категория\")"
   ]
  },
  {
   "cell_type": "markdown",
   "id": "9ec9ee1c-c7af-4ed4-9a93-0fe7590bacff",
   "metadata": {},
   "source": [
    "Объём групп неравномерный, но этого следовало ожидать, тк треть всех покупателей совершили только одну покупку, но такие покупатели включают в себя и новых, и потерянных. Поэтому дисбаланс присуствует в frequency, но остуствует в recency, хотя логика рпзбияния та же.\n",
    "\n",
    "И наблюдается резкое падение в объёме 3 категории. Приина - мало покупателей сохран яют свою лояльность в течении года.\n",
    "Под условных оптовиков я выделила бы объёмы свыше 30, но для удобства академического анализа я буду считать их в дальнейшем частью 3 группы.\n",
    "\n",
    "При подсчёте объема продаж каждой группы уже заметно, как высока для нас роль немногочисленной, но уверенной 3 группы."
   ]
  },
  {
   "cell_type": "markdown",
   "id": "3eae338e-2017-40d7-8ff5-64c2e5340784",
   "metadata": {},
   "source": [
    "### Monetary"
   ]
  },
  {
   "cell_type": "code",
   "execution_count": 73,
   "id": "8a16746a-9890-401a-8410-c0e75a38a0e4",
   "metadata": {},
   "outputs": [
    {
     "data": {
      "image/png": "[encoded data removed]",
      "text/plain": [
       "<Figure size 720x432 with 1 Axes>"
      ]
     },
     "metadata": {},
     "output_type": "display_data"
    },
    {
     "data": {
      "image/png": "[encoded data removed]",
      "text/plain": [
       "<Figure size 720x432 with 1 Axes>"
      ]
     },
     "metadata": {},
     "output_type": "display_data"
    }
   ],
   "source": [
    "sns.histplot(cust.total_bill)\n",
    "plt.title('Total bill (monetary)', size = 14)\n",
    "plt.show()\n",
    "sns.histplot(cust[cust.total_bill <= 6000].total_bill)\n",
    "plt.title('Total bill (monetary) <= 6000 conventional units', size = 14);"
   ]
  },
  {
   "cell_type": "markdown",
   "id": "4a323541-2c26-4714-ba6d-a91c5a6f1f75",
   "metadata": {},
   "source": [
    "Для распределния объёмов продаж пользователей характерен незаметный, но критически значимый для дохода хвост, начиная примерно с 6к. И пик в районе примерно 200 уе. Исходя из этого, я выбираю границы: свыше 3000 - лояльный покупатель, ниже 500 - редкий покупатель."
   ]
  },
  {
   "cell_type": "code",
   "execution_count": 93,
   "id": "c04a6aef-8ba8-4a48-b2ef-13fe45fd52fe",
   "metadata": {},
   "outputs": [
    {
     "name": "stdout",
     "output_type": "stream",
     "text": [
      "Объёмы покупателей в группах\n",
      "1641 - 1 категория\n",
      "2024 - 2 категория\n",
      "566 - 3 категория\n",
      "20 - свыше 40к уе\n"
     ]
    }
   ],
   "source": [
    "print(\"Объёмы покупателей в группах\")\n",
    "print(f\"{cust.query('total_bill <= 500').customer_id.count()} - 1 категория\")\n",
    "print(f\"{cust.query('total_bill > 500 and total_bill < 3000').customer_id.count()} - 2 категория\")\n",
    "print(f\"{cust.query('total_bill >= 3000').customer_id.count()} - 3 категория\")\n",
    "\n",
    "print(f\"{cust.query('total_bill >= 40000').customer_id.count()} - свыше 40к уе\")"
   ]
  },
  {
   "cell_type": "code",
   "execution_count": 90,
   "id": "04c8ee1f-3361-43e6-b7b0-917ae15b6823",
   "metadata": {},
   "outputs": [
    {
     "name": "stdout",
     "output_type": "stream",
     "text": [
      "Объёмы продаж в группах\n",
      "421к уе - 1 категория\n",
      "2633к уе - 2 категория\n",
      "5664к уе - 3 категория\n"
     ]
    }
   ],
   "source": [
    "print(\"Объёмы продаж в группах\")\n",
    "print(f\"{cust.query('total_bill <= 500').total_bill.sum()/1000:.0f}к уе - 1 категория\")\n",
    "print(f\"{cust.query('total_bill > 500 and total_bill < 3000').total_bill.sum()/1000:.0f}к уе - 2 категория\")\n",
    "print(f\"{cust.query('total_bill >= 3000').total_bill.sum()/1000:.0f}к уе - 3 категория\")"
   ]
  },
  {
   "cell_type": "markdown",
   "id": "684f9c5c-56f1-43bd-8a99-46a0b3a7f3ac",
   "metadata": {},
   "source": [
    "Для третьей группы характерно небольшое количество потребителей в 3 групппе, но именно они дают основной доход. Для нашего сервиса характерны оптовые закупки - с таких покупателей низкая маржа из-за оптовых цен, но благодаря количеству, мы как поставщики остаемся в очевидном плюсе.\n",
    "\n",
    "1 категория даёт небольшие объёмы дохода, но у них есть потенциал стать любой из последующих категорий, как и войти в отток.\n",
    "\n",
    "Во второй категории хорошие потребители, дают высокую маржу, их стоит удерживать и пытаться перевести в 3 категорию."
   ]
  },
  {
   "cell_type": "markdown",
   "id": "5df7ec7a-680d-45ef-8364-f06e44325d09",
   "metadata": {},
   "source": [
    "### RFM"
   ]
  },
  {
   "cell_type": "markdown",
   "id": "f6316b23-315b-44c0-934c-84e5faa89fe3",
   "metadata": {},
   "source": [
    "Для всех распределний характерна положительная ассиметрия с длинным хвостом. Тк много разовых или маленьких покупателей, и емть покупатели (оптовики), которые тратят очень много у нас и приносят основную прибыль. Для таких датасетов (продажи) это характерное поведение. Поэтому стоит использовать медианные значения продаж для показа общей картины, тк среднее будет завышено благодаря выбросам (прибыль с оптовиков).\n",
    "\n",
    "Исходя из анализа, определю функции дял группировки пользователей по показателей и применим их."
   ]
  },
  {
   "cell_type": "code",
   "execution_count": 98,
   "id": "a350e637-707b-4b42-ab59-b804710a980b",
   "metadata": {},
   "outputs": [],
   "source": [
    "# Функция выбора сегмента для recency\n",
    "\n",
    "def set_recency_score(recency):\n",
    "    if recency <= 30:\n",
    "        return 3\n",
    "    if recency > 30 and recency < 120:\n",
    "        return 2\n",
    "    return 1"
   ]
  },
  {
   "cell_type": "code",
   "execution_count": 99,
   "id": "d08b4f69-386c-45c6-b578-0d2806927bb9",
   "metadata": {},
   "outputs": [],
   "source": [
    "# Функция выбора сегмента для frequency\n",
    "\n",
    "def set_frequency_score(frequency):\n",
    "    if frequency >= 11:\n",
    "        return 3\n",
    "    if frequency < 11 and frequency > 4:\n",
    "        return 2\n",
    "    return 1"
   ]
  },
  {
   "cell_type": "code",
   "execution_count": 100,
   "id": "e55fdf8a-af05-43bd-9647-eb81bd4d4688",
   "metadata": {},
   "outputs": [],
   "source": [
    "# Функция выбора сегмента для monetary\n",
    "\n",
    "def set_monetary_score(monetary):\n",
    "    if monetary >= 3000:\n",
    "        return 3\n",
    "    if monetary < 3000 and monetary > 500:\n",
    "        return 2\n",
    "    return 1"
   ]
  },
  {
   "cell_type": "code",
   "execution_count": 101,
   "id": "b1de455c-4467-40ea-9005-06910cc6924e",
   "metadata": {},
   "outputs": [],
   "source": [
    "# Применим эти функции к нашему датасету\n",
    "\n",
    "cust['recency'] = cust.day_dist.apply(set_recency_score)\n",
    "cust['frequency'] = cust.cnt_purchases.apply(set_frequency_score)\n",
    "cust['monetary'] = cust.total_bill.apply(set_monetary_score)"
   ]
  },
  {
   "cell_type": "code",
   "execution_count": 102,
   "id": "ca03b73e-57cc-4fe3-a9ee-d9982b6f35f1",
   "metadata": {},
   "outputs": [
    {
     "name": "stdout",
     "output_type": "stream",
     "text": [
      "Форма датафрейма: (4231, 8)\n"
     ]
    },
    {
     "data": {
      "text/html": [
       "<div>\n",
       "<style scoped>\n",
       "    .dataframe tbody tr th:only-of-type {\n",
       "        vertical-align: middle;\n",
       "    }\n",
       "\n",
       "    .dataframe tbody tr th {\n",
       "        vertical-align: top;\n",
       "    }\n",
       "\n",
       "    .dataframe thead th {\n",
       "        text-align: right;\n",
       "    }\n",
       "</style>\n",
       "<table border=\"1\" class=\"dataframe\">\n",
       "  <thead>\n",
       "    <tr style=\"text-align: right;\">\n",
       "      <th></th>\n",
       "      <th>customer_id</th>\n",
       "      <th>total_bill</th>\n",
       "      <th>last_date</th>\n",
       "      <th>cnt_purchases</th>\n",
       "      <th>day_dist</th>\n",
       "      <th>recency</th>\n",
       "      <th>frequency</th>\n",
       "      <th>monetary</th>\n",
       "    </tr>\n",
       "  </thead>\n",
       "  <tbody>\n",
       "    <tr>\n",
       "      <th>0</th>\n",
       "      <td>12346.0</td>\n",
       "      <td>259.36</td>\n",
       "      <td>2010-06-28 13:53:00</td>\n",
       "      <td>6</td>\n",
       "      <td>179</td>\n",
       "      <td>1</td>\n",
       "      <td>2</td>\n",
       "      <td>1</td>\n",
       "    </tr>\n",
       "    <tr>\n",
       "      <th>1</th>\n",
       "      <td>12347.0</td>\n",
       "      <td>2035.11</td>\n",
       "      <td>2010-10-31 14:20:00</td>\n",
       "      <td>2</td>\n",
       "      <td>54</td>\n",
       "      <td>2</td>\n",
       "      <td>1</td>\n",
       "      <td>2</td>\n",
       "    </tr>\n",
       "    <tr>\n",
       "      <th>2</th>\n",
       "      <td>12348.0</td>\n",
       "      <td>1114.96</td>\n",
       "      <td>2010-12-16 19:09:00</td>\n",
       "      <td>2</td>\n",
       "      <td>7</td>\n",
       "      <td>3</td>\n",
       "      <td>1</td>\n",
       "      <td>2</td>\n",
       "    </tr>\n",
       "    <tr>\n",
       "      <th>3</th>\n",
       "      <td>12349.0</td>\n",
       "      <td>2671.14</td>\n",
       "      <td>2010-10-28 08:23:00</td>\n",
       "      <td>3</td>\n",
       "      <td>57</td>\n",
       "      <td>2</td>\n",
       "      <td>1</td>\n",
       "      <td>2</td>\n",
       "    </tr>\n",
       "    <tr>\n",
       "      <th>4</th>\n",
       "      <td>12351.0</td>\n",
       "      <td>300.93</td>\n",
       "      <td>2010-11-29 15:23:00</td>\n",
       "      <td>1</td>\n",
       "      <td>25</td>\n",
       "      <td>3</td>\n",
       "      <td>1</td>\n",
       "      <td>1</td>\n",
       "    </tr>\n",
       "  </tbody>\n",
       "</table>\n",
       "</div>"
      ],
      "text/plain": [
       "   customer_id  total_bill           last_date  cnt_purchases  day_dist  \\\n",
       "0      12346.0      259.36 2010-06-28 13:53:00              6       179   \n",
       "1      12347.0     2035.11 2010-10-31 14:20:00              2        54   \n",
       "2      12348.0     1114.96 2010-12-16 19:09:00              2         7   \n",
       "3      12349.0     2671.14 2010-10-28 08:23:00              3        57   \n",
       "4      12351.0      300.93 2010-11-29 15:23:00              1        25   \n",
       "\n",
       "   recency  frequency  monetary  \n",
       "0        1          2         1  \n",
       "1        2          1         2  \n",
       "2        3          1         2  \n",
       "3        2          1         2  \n",
       "4        3          1         1  "
      ]
     },
     "execution_count": 102,
     "metadata": {},
     "output_type": "execute_result"
    }
   ],
   "source": [
    "print(f\"Форма датафрейма: {cust.shape}\")\n",
    "cust.head()"
   ]
  },
  {
   "cell_type": "code",
   "execution_count": 105,
   "id": "59e36ba9-4447-4516-91cd-1e0824319910",
   "metadata": {},
   "outputs": [],
   "source": [
    "# Соберем rfm сегмент для каждого пользователя\n",
    "\n",
    "cust['rfm_segment'] = cust.recency.astype(str) + cust.frequency.astype(str) + cust.monetary.astype(str)"
   ]
  },
  {
   "cell_type": "code",
   "execution_count": 104,
   "id": "c77b5022-da8d-412c-aee2-14fca28fbcfb",
   "metadata": {},
   "outputs": [
    {
     "name": "stdout",
     "output_type": "stream",
     "text": [
      "Форма датафрейма: (4231, 9)\n"
     ]
    },
    {
     "data": {
      "text/html": [
       "<div>\n",
       "<style scoped>\n",
       "    .dataframe tbody tr th:only-of-type {\n",
       "        vertical-align: middle;\n",
       "    }\n",
       "\n",
       "    .dataframe tbody tr th {\n",
       "        vertical-align: top;\n",
       "    }\n",
       "\n",
       "    .dataframe thead th {\n",
       "        text-align: right;\n",
       "    }\n",
       "</style>\n",
       "<table border=\"1\" class=\"dataframe\">\n",
       "  <thead>\n",
       "    <tr style=\"text-align: right;\">\n",
       "      <th></th>\n",
       "      <th>customer_id</th>\n",
       "      <th>total_bill</th>\n",
       "      <th>last_date</th>\n",
       "      <th>cnt_purchases</th>\n",
       "      <th>day_dist</th>\n",
       "      <th>recency</th>\n",
       "      <th>frequency</th>\n",
       "      <th>monetary</th>\n",
       "      <th>rfm_segment</th>\n",
       "    </tr>\n",
       "  </thead>\n",
       "  <tbody>\n",
       "    <tr>\n",
       "      <th>0</th>\n",
       "      <td>12346.0</td>\n",
       "      <td>259.36</td>\n",
       "      <td>2010-06-28 13:53:00</td>\n",
       "      <td>6</td>\n",
       "      <td>179</td>\n",
       "      <td>1</td>\n",
       "      <td>2</td>\n",
       "      <td>1</td>\n",
       "      <td>121</td>\n",
       "    </tr>\n",
       "    <tr>\n",
       "      <th>1</th>\n",
       "      <td>12347.0</td>\n",
       "      <td>2035.11</td>\n",
       "      <td>2010-10-31 14:20:00</td>\n",
       "      <td>2</td>\n",
       "      <td>54</td>\n",
       "      <td>2</td>\n",
       "      <td>1</td>\n",
       "      <td>2</td>\n",
       "      <td>212</td>\n",
       "    </tr>\n",
       "    <tr>\n",
       "      <th>2</th>\n",
       "      <td>12348.0</td>\n",
       "      <td>1114.96</td>\n",
       "      <td>2010-12-16 19:09:00</td>\n",
       "      <td>2</td>\n",
       "      <td>7</td>\n",
       "      <td>3</td>\n",
       "      <td>1</td>\n",
       "      <td>2</td>\n",
       "      <td>312</td>\n",
       "    </tr>\n",
       "    <tr>\n",
       "      <th>3</th>\n",
       "      <td>12349.0</td>\n",
       "      <td>2671.14</td>\n",
       "      <td>2010-10-28 08:23:00</td>\n",
       "      <td>3</td>\n",
       "      <td>57</td>\n",
       "      <td>2</td>\n",
       "      <td>1</td>\n",
       "      <td>2</td>\n",
       "      <td>212</td>\n",
       "    </tr>\n",
       "    <tr>\n",
       "      <th>4</th>\n",
       "      <td>12351.0</td>\n",
       "      <td>300.93</td>\n",
       "      <td>2010-11-29 15:23:00</td>\n",
       "      <td>1</td>\n",
       "      <td>25</td>\n",
       "      <td>3</td>\n",
       "      <td>1</td>\n",
       "      <td>1</td>\n",
       "      <td>311</td>\n",
       "    </tr>\n",
       "  </tbody>\n",
       "</table>\n",
       "</div>"
      ],
      "text/plain": [
       "   customer_id  total_bill           last_date  cnt_purchases  day_dist  \\\n",
       "0      12346.0      259.36 2010-06-28 13:53:00              6       179   \n",
       "1      12347.0     2035.11 2010-10-31 14:20:00              2        54   \n",
       "2      12348.0     1114.96 2010-12-16 19:09:00              2         7   \n",
       "3      12349.0     2671.14 2010-10-28 08:23:00              3        57   \n",
       "4      12351.0      300.93 2010-11-29 15:23:00              1        25   \n",
       "\n",
       "   recency  frequency  monetary rfm_segment  \n",
       "0        1          2         1         121  \n",
       "1        2          1         2         212  \n",
       "2        3          1         2         312  \n",
       "3        2          1         2         212  \n",
       "4        3          1         1         311  "
      ]
     },
     "execution_count": 104,
     "metadata": {},
     "output_type": "execute_result"
    }
   ],
   "source": [
    "print(f\"Форма датафрейма: {cust.shape}\")\n",
    "cust.head()"
   ]
  },
  {
   "cell_type": "markdown",
   "id": "798e380a-9330-40f8-a431-ec096600ca29",
   "metadata": {},
   "source": [
    "Для каждого пользователя определен тип поведения и выбрана соотвествующея этому категория."
   ]
  },
  {
   "cell_type": "markdown",
   "id": "bd1a531a-994b-4ac1-8d25-652e8aae01e3",
   "metadata": {},
   "source": [
    "## Анализ сегментации и выбор стратегий взаимодействия"
   ]
  },
  {
   "cell_type": "markdown",
   "id": "158c9081-e265-43b0-8926-ebf5ce7d7b70",
   "metadata": {},
   "source": [
    "Сегменты по поведению относительно r/f/m выбраны и пользователи по ним распределены. Теперь вглянем на полусенную картину, выделем для каждого сегмента свои правила взаимодействия, особенно уделим внимание главенствующим моделям поведения."
   ]
  },
  {
   "cell_type": "code",
   "execution_count": 106,
   "id": "5c04ddce-1b41-4def-a72e-7830e078073a",
   "metadata": {},
   "outputs": [
    {
     "data": {
      "image/png": "[encoded data removed]",
      "text/plain": [
       "<Figure size 1008x720 with 1 Axes>"
      ]
     },
     "metadata": {},
     "output_type": "display_data"
    }
   ],
   "source": [
    "sns.set(rc={'figure.figsize':(14, 10)})\n",
    "ax = sns.countplot(y = cust.sort_values(by=['rfm_segment']).rfm_segment)\n",
    "plt.grid(True)    \n",
    "sns.set(rc={'figure.figsize':(10, 6)})"
   ]
  },
  {
   "cell_type": "markdown",
   "id": "459c7ee8-07d0-488d-a3b1-38a9f97682ff",
   "metadata": {},
   "source": [
    "В результате rfm-анализа можно выделить следующие группы:\n",
    "\n",
    "* Преобладает *отток* пользователей **(группы 11x)**, что характерно для сервисов продаж, поэтому на работу с ними не рекомендуется выделять крупный бюджет. Минимальными ресурсами можно попробовать донести ценность продукта или предложить спец предложение. Если отклика нет, то концетрировать свое внимание на них в дальнейшем не стоит.\n",
    "\n",
    "* **Клиенты 12х** совершали периодечески у нас покупки за год, но начали стремится к оттоку - можно провести обратную связь с выяснением причин, например, через опрос-рассылку.\n",
    "\n",
    "* Почти нет *потерянных идеальных клиентов* (133), что говорит о хорошей работе с группой (333)\n",
    "\n",
    "* **Клиенты 21х** - большая группа, имеют потенциал войти в отток ровно как и стать постоянной клиентурой. Эти клиенты были у нас недавно и ещё помнят нас как проудкт, поэтому с ними необходимо повзаимодействовать - провести рассылку, предложить бонус, например, за отзыв или в виде скидки.\n",
    "\n",
    "* **Клиенты 22х** - также большая группа, которая может перейти в отток или в сегмент лояльных. Они чаще совершали покупки, чем предыдущая группа, поэтому их будет проще обернуть в лояльных. Таким клиентам подойдёт для напоминания о ценности нашего продукта персонализированная подборка товара в совокупности со спец предложением по этой подборке или скдидкой.\n",
    "\n",
    "* **Клиенты 23х** - в нашем случае небольшая группа, но приносящая хороший доход. Есть угроза ухода в отток, поэтому обязательно провести с ними работу по удержанию: узнать, почему перестал покупать, что превлекает в продукте - по итогу диалогу предложить скидку. С особо прибыльными клиентами лучше вести диалог с помощью менеджера.\n",
    "\n",
    "* **Клиенты 31х** - *новые клиенты*, основная цель - удержать. \n",
    "\n",
    "    Хорошо показать им заботу о клиенте - прислать информационную рассылку о купленном продукте, попросить от покупателя ценный фидбэк, скидку на следующий заказ с ограниченным сроком действия. Рассказать им выгоды нашей системы лояльности. \n",
    "\n",
    "    Необходимо выделить потенциальных VIPов и вести с ними отдельную кампанию, например, по привлечению друзей. \n",
    "\n",
    "* **Клиенты 32х & 332** - *лояльные клиенты*. Они уже оценили преимущества нашего сервиса и массовые рассылки могут их скорее отпугнуть. Целесообразно сообщать им о крупных расспродажах или осбо выгодных предложениях. Хороший ход - отправлять экспертные обзоры по новым товарам для нас / по активно покупаемым ими категориям / новым категориям для них, чтобы дать им импульс для покупки.\n",
    "\n",
    "    Для маленького чека стоит предлагать подборки сопуствующего товара или скидки вида 3+1.\n",
    "    Для почти идеальных пользователей 323 стоит поднять мотивацию к более частым покупкам, собрав их фидбэк, и на его основе попробовать поднять их активность.\n",
    "    \n",
    "* Для **клиентов хх1** - стоит провести работу по увеличению среднего чека.\n",
    "\n",
    "* **Клиенты 333** - *идеальные* клиенты. Цель - удержать в этой категории как можно дольше, в идеале даже подняв их прибыльность. \n",
    "\n",
    "    Обычные скидки для таких клиентов не будут ключевым фактором заинтересованности. Они и так много и часто покупают. Стоит продемонстрировать их уникальность для нас, предложив VIP-услугу или VIP-товар, давать им уникальную информацию.\n",
    "    \n",
    "    Например, при оптовых закупках можно создать уникальное предложение по закупке нового дял них продукта, и провести отельно для них встречу с демонстрацией позитивных сторон предложения."
   ]
  },
  {
   "cell_type": "markdown",
   "id": "bc09b78a-def5-4e9d-a0a7-3adf7cce66ee",
   "metadata": {},
   "source": [
    "### Выводы"
   ]
  },
  {
   "cell_type": "markdown",
   "id": "b67aecae-67be-47a7-8c08-42fa30f46af9",
   "metadata": {},
   "source": [
    "Основные выводы, которые можно выделить после нашего анализа продаж:\n",
    "\n",
    "* Хорошая работа с идеальными 333 VIP-клиентами. Группа имеет выделяющийся объём пользователей. практически нет потерянных випов (133) и мало остывших к нам випам (223), которых еще и можно вернуть при работе с ними.\n",
    "\n",
    "* Большой отток (11х) - сигнал о том, что мы слабо удерживаем новых клиентов или проводим неэффективные кампании по привлечению новых. Например, даем промокод при регистрации на первую покупку, а после не проводим с ним качественного удержания, отчего он теряет интерес.\n",
    "\n",
    "* Много остывающих к нам клиентов (21х), которые нас еще помнят, но грозятся перейти в отток. Что опять же гвоорит о слабом удержании новичков. Большинство из них совершило покупки на средний чек, этим они показали заинтересованность в продукте, поэтому среди них хороший потенциал выйти в лояльных потребителей.\n",
    "\n",
    "* Выделяющееся количество новичков (31х). То есть наш продукт популярен на рынке."
   ]
  }
 ],
 "metadata": {
  "kernelspec": {
   "display_name": "Python 3 (ipykernel)",
   "language": "python",
   "name": "python3"
  },
  "language_info": {
   "codemirror_mode": {
    "name": "ipython",
    "version": 3
   },
   "file_extension": ".py",
   "mimetype": "text/x-python",
   "name": "python",
   "nbconvert_exporter": "python",
   "pygments_lexer": "ipython3",
   "version": "3.8.10"
  }
 },
 "nbformat": 4,
 "nbformat_minor": 5
}
